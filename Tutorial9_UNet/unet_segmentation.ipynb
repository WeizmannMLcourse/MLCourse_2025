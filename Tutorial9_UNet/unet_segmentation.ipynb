{
  "cells": [
    {
      "cell_type": "markdown",
      "metadata": {},
      "source": [
        "# Segmentation with UNet"
      ]
    },
    {
      "cell_type": "markdown",
      "metadata": {},
      "source": [
        "## Preamble"
      ]
    },
    {
      "cell_type": "code",
      "execution_count": 1,
      "metadata": {},
      "outputs": [],
      "source": [
        "%load_ext autoreload\n",
        "%autoreload 2"
      ]
    },
    {
      "cell_type": "code",
      "execution_count": null,
      "metadata": {},
      "outputs": [],
      "source": [
        "import matplotlib.pyplot as plt\n",
        "import numpy as np\n",
        "from tqdm.notebook import tqdm\n",
        "\n",
        "import torch\n",
        "import torch.nn as nn\n",
        "from torchsummary import summary\n",
        "import torch.nn.functional as F\n",
        "from torch.utils.data import Dataset, DataLoader\n",
        "\n",
        "import torch.optim as optim\n",
        "from torch.optim import lr_scheduler"
      ]
    },
    {
      "cell_type": "code",
      "execution_count": null,
      "metadata": {},
      "outputs": [],
      "source": [
        "from random_shapes_dataset import ShapesDataset"
      ]
    },
    {
      "attachments": {},
      "cell_type": "markdown",
      "metadata": {
        "colab_type": "text",
        "id": "kRF9g796-mqr"
      },
      "source": [
        "## Helper functions for visualizing the dataset"
      ]
    },
    {
      "cell_type": "code",
      "execution_count": 3,
      "metadata": {
        "colab": {},
        "colab_type": "code",
        "id": "HoTt_eSw-qcw"
      },
      "outputs": [],
      "source": [
        "def masks_to_rgb(masks):\n",
        "    colors = torch.FloatTensor([(201, 58, 64), (242, 207, 1), (0, 152, 75), (101, 172, 228), (56, 34, 132), (160, 194, 56)])\n",
        "\n",
        "    masks = masks.permute(0, 2, 3, 1)\n",
        "    above_threshold = (masks > 0.5).float()\n",
        "\n",
        "    count = torch.sum(above_threshold, dim=-1, keepdim=True)\n",
        "    img = torch.einsum('bhwm,mc->bhwc', above_threshold, colors)\n",
        "\n",
        "    img = img / count.float()\n",
        "    img = torch.clamp(img, 0, 255).to(torch.uint8)\n",
        "\n",
        "    return img.contiguous()\n",
        "\n",
        "def reverse_transform(inp):\n",
        "    inp = inp.repeat(1, 3, 1, 1)\n",
        "    inp = inp.numpy().transpose((0, 2, 3, 1))\n",
        "    inp = np.clip(inp, 0, 1)\n",
        "    inp = (inp * 255).astype(np.uint8)\n",
        "    \n",
        "    return inp\n",
        "\n",
        "def plot_side_by_side(img_arrays):\n",
        "    flatten_list = []\n",
        "    for row in zip(*img_arrays):\n",
        "        for img in row:\n",
        "            flatten_list.append(img)\n",
        "\n",
        "    ncol = len(img_arrays)\n",
        "    nrow = len(flatten_list) // ncol\n",
        "\n",
        "    f, plots = plt.subplots(nrow, ncol, sharex='all', sharey='all', figsize=(ncol * 4, nrow * 4))\n",
        "\n",
        "    for i in range(len(flatten_list)):\n",
        "        if nrow == 1:\n",
        "            ax = plots[i % ncol]\n",
        "        else:\n",
        "            ax = plots[i // ncol, i % ncol]\n",
        "        ax.imshow(flatten_list[i])"
      ]
    },
    {
      "attachments": {},
      "cell_type": "markdown",
      "metadata": {
        "colab_type": "text",
        "id": "Abl76VvMCiQJ"
      },
      "source": [
        "## Dataset"
      ]
    },
    {
      "cell_type": "code",
      "execution_count": 4,
      "metadata": {},
      "outputs": [],
      "source": [
        "# use same transform for train/val for this example\n",
        "train_ds = ShapesDataset(4096)\n",
        "val_ds   = ShapesDataset(256)"
      ]
    },
    {
      "cell_type": "code",
      "execution_count": 5,
      "metadata": {
        "colab": {
          "base_uri": "https://localhost:8080/",
          "height": 34
        },
        "colab_type": "code",
        "id": "dHHeh3mtBMq3",
        "outputId": "b045340f-fb36-4ad9-c11e-5a00663057f2"
      },
      "outputs": [],
      "source": [
        "train_dl = DataLoader(train_ds, batch_size=128, shuffle=True, num_workers=0)\n",
        "val_dl   = DataLoader(val_ds, batch_size=128, shuffle=False, num_workers=0)"
      ]
    },
    {
      "cell_type": "code",
      "execution_count": 6,
      "metadata": {
        "colab": {
          "base_uri": "https://localhost:8080/",
          "height": 315
        },
        "colab_type": "code",
        "id": "tCqFDax3J8Ou",
        "outputId": "ee85d1a4-e909-4243-d400-4abf9bb10aaf"
      },
      "outputs": [
        {
          "data": {
            "image/png": "[encoded data removed]",
            "text/plain": [
              "<Figure size 800x400 with 2 Axes>"
            ]
          },
          "metadata": {},
          "output_type": "display_data"
        }
      ],
      "source": [
        "# Get a batch of training data\n",
        "idx = np.random.randint(0, len(train_ds))\n",
        "img, mask = train_ds[idx]\n",
        "\n",
        "img = img.unsqueeze(0)\n",
        "mask = mask.unsqueeze(0)\n",
        "\n",
        "img = reverse_transform(img)\n",
        "mask = masks_to_rgb(mask)\n",
        "\n",
        "plot_side_by_side([img, mask])"
      ]
    },
    {
      "attachments": {},
      "cell_type": "markdown",
      "metadata": {
        "colab_type": "text",
        "id": "YXqiD78nFlIO"
      },
      "source": [
        "## Model\n",
        "\n",
        "Following [1505.04597](https://arxiv.org/abs/1505.04597)\n",
        "\n",
        "![UNet Architecture](unet.png)"
      ]
    },
    {
      "cell_type": "code",
      "execution_count": 7,
      "metadata": {
        "colab": {},
        "colab_type": "code",
        "id": "3G4uWSUIC6Xa"
      },
      "outputs": [],
      "source": [
        "def double_conv(in_channels, out_channels):\n",
        "    return nn.Sequential(\n",
        "        nn.Conv2d(in_channels, out_channels, 3, padding=1),\n",
        "        nn.ReLU(inplace=True),\n",
        "        nn.Conv2d(out_channels, out_channels, 3, padding=1),\n",
        "        nn.ReLU(inplace=True)\n",
        "    )   \n",
        "\n",
        "\n",
        "class UNet(nn.Module):\n",
        "\n",
        "    def __init__(self, n_class):\n",
        "        super().__init__()\n",
        "                \n",
        "        self.dconv_down1 = double_conv(1, 64)\n",
        "        self.dconv_down2 = double_conv(64, 128)\n",
        "        self.dconv_down3 = double_conv(128, 256)\n",
        "        self.dconv_down4 = double_conv(256, 512)        \n",
        "\n",
        "        self.maxpool = nn.MaxPool2d(2)\n",
        "        self.upsample = nn.Upsample(scale_factor=2, mode='bilinear', align_corners=True)        \n",
        "        \n",
        "        self.dconv_up3 = double_conv(256 + 512, 256)\n",
        "        self.dconv_up2 = double_conv(128 + 256, 128)\n",
        "        self.dconv_up1 = double_conv(128 + 64, 64)\n",
        "        \n",
        "        self.conv_last = nn.Conv2d(64, n_class, 1)\n",
        "        \n",
        "        \n",
        "    def forward(self, x):\n",
        "        conv1 = self.dconv_down1(x)\n",
        "        x = self.maxpool(conv1)\n",
        "\n",
        "        conv2 = self.dconv_down2(x)\n",
        "        x = self.maxpool(conv2)\n",
        "        \n",
        "        conv3 = self.dconv_down3(x)\n",
        "        x = self.maxpool(conv3)   \n",
        "        \n",
        "        x = self.dconv_down4(x)\n",
        "        \n",
        "        x = self.upsample(x)        \n",
        "        x = torch.cat([x, conv3], dim=1)\n",
        "        \n",
        "        x = self.dconv_up3(x)\n",
        "        x = self.upsample(x)        \n",
        "        x = torch.cat([x, conv2], dim=1)       \n",
        "\n",
        "        x = self.dconv_up2(x)\n",
        "        x = self.upsample(x)        \n",
        "        x = torch.cat([x, conv1], dim=1)   \n",
        "\n",
        "        x = self.dconv_up1(x)\n",
        "        \n",
        "        out = self.conv_last(x)\n",
        "\n",
        "        return out"
      ]
    },
    {
      "cell_type": "code",
      "execution_count": 20,
      "metadata": {
        "colab": {
          "base_uri": "https://localhost:8080/",
          "height": 823
        },
        "colab_type": "code",
        "id": "BabgQLTmGWZD",
        "outputId": "bc48fa7c-6875-4102-8886-78b516053611"
      },
      "outputs": [
        {
          "name": "stdout",
          "output_type": "stream",
          "text": [
            "----------------------------------------------------------------\n",
            "        Layer (type)               Output Shape         Param #\n",
            "================================================================\n",
            "            Conv2d-1         [-1, 64, 192, 192]             640\n",
            "              ReLU-2         [-1, 64, 192, 192]               0\n",
            "            Conv2d-3         [-1, 64, 192, 192]          36,928\n",
            "              ReLU-4         [-1, 64, 192, 192]               0\n",
            "         MaxPool2d-5           [-1, 64, 96, 96]               0\n",
            "            Conv2d-6          [-1, 128, 96, 96]          73,856\n",
            "              ReLU-7          [-1, 128, 96, 96]               0\n",
            "            Conv2d-8          [-1, 128, 96, 96]         147,584\n",
            "              ReLU-9          [-1, 128, 96, 96]               0\n",
            "        MaxPool2d-10          [-1, 128, 48, 48]               0\n",
            "           Conv2d-11          [-1, 256, 48, 48]         295,168\n",
            "             ReLU-12          [-1, 256, 48, 48]               0\n",
            "           Conv2d-13          [-1, 256, 48, 48]         590,080\n",
            "             ReLU-14          [-1, 256, 48, 48]               0\n",
            "        MaxPool2d-15          [-1, 256, 24, 24]               0\n",
            "           Conv2d-16          [-1, 512, 24, 24]       1,180,160\n",
            "             ReLU-17          [-1, 512, 24, 24]               0\n",
            "           Conv2d-18          [-1, 512, 24, 24]       2,359,808\n",
            "             ReLU-19          [-1, 512, 24, 24]               0\n",
            "         Upsample-20          [-1, 512, 48, 48]               0\n",
            "           Conv2d-21          [-1, 256, 48, 48]       1,769,728\n",
            "             ReLU-22          [-1, 256, 48, 48]               0\n",
            "           Conv2d-23          [-1, 256, 48, 48]         590,080\n",
            "             ReLU-24          [-1, 256, 48, 48]               0\n",
            "         Upsample-25          [-1, 256, 96, 96]               0\n",
            "           Conv2d-26          [-1, 128, 96, 96]         442,496\n",
            "             ReLU-27          [-1, 128, 96, 96]               0\n",
            "           Conv2d-28          [-1, 128, 96, 96]         147,584\n",
            "             ReLU-29          [-1, 128, 96, 96]               0\n",
            "         Upsample-30        [-1, 128, 192, 192]               0\n",
            "           Conv2d-31         [-1, 64, 192, 192]         110,656\n",
            "             ReLU-32         [-1, 64, 192, 192]               0\n",
            "           Conv2d-33         [-1, 64, 192, 192]          36,928\n",
            "             ReLU-34         [-1, 64, 192, 192]               0\n",
            "           Conv2d-35          [-1, 6, 192, 192]             390\n",
            "================================================================\n",
            "Total params: 7,782,086\n",
            "Trainable params: 7,782,086\n",
            "Non-trainable params: 0\n",
            "----------------------------------------------------------------\n",
            "Input size (MB): 0.14\n",
            "Forward/backward pass size (MB): 333.56\n",
            "Params size (MB): 29.69\n",
            "Estimated Total Size (MB): 363.39\n",
            "----------------------------------------------------------------\n"
          ]
        }
      ],
      "source": [
        "model = UNet(6)\n",
        "if torch.cuda.is_available():\n",
        "    model = model.cuda()\n",
        "summary(model, input_size=(1, 192, 192))"
      ]
    },
    {
      "attachments": {},
      "cell_type": "markdown",
      "metadata": {
        "colab_type": "text",
        "id": "4A09g2FjHgUE"
      },
      "source": [
        "## Loss\n",
        "\n",
        "Segmentation problems often feature relatively small shapes on a large background, causing large class imbalance\n",
        "\n",
        "==> ***Dice Loss*** is often used in addition to BCE to address this:\n",
        "\n",
        "### $\\mathrm{dice} := 2 \\cdot \\frac{ \\left| y\\  \\cap \\  \\hat{y} \\right| + s}{ \\left| y \\ \\cup \\hat{y} \\ \\right| + s}$\n",
        "### $L_\\mathrm{dice} = 1 - \\mathrm{dice}$\n",
        "\n",
        "where $s$ (i.e. \"smooth\") is introduced for stability.\n",
        "\n",
        "![dice](dice.png)"
      ]
    },
    {
      "cell_type": "code",
      "execution_count": null,
      "metadata": {},
      "outputs": [],
      "source": [
        "def dice_loss(pred, target, smooth = 1.):\n",
        "    pred = pred.contiguous()\n",
        "    target = target.contiguous()    \n",
        "\n",
        "    intersection = (pred * target).sum(dim=2).sum(dim=2)\n",
        "    union = pred.sum(dim=2).sum(dim=2) + target.sum(dim=2).sum(dim=2)\n",
        "    \n",
        "    loss = (1 - ((2. * intersection + smooth) / (union + smooth)))\n",
        "    \n",
        "    return loss.mean()\n",
        "\n",
        "def calc_loss(pred, target, bce_weight=0.5):\n",
        "    bce = F.binary_cross_entropy_with_logits(pred, target)\n",
        "        \n",
        "    pred = torch.sigmoid(pred)\n",
        "    dice = dice_loss(pred, target)\n",
        "    \n",
        "    loss = bce * bce_weight + dice * (1 - bce_weight)\n",
        "    \n",
        "    return loss, bce, dice"
      ]
    },
    {
      "attachments": {},
      "cell_type": "markdown",
      "metadata": {},
      "source": [
        "## Training"
      ]
    },
    {
      "cell_type": "code",
      "execution_count": 10,
      "metadata": {
        "colab": {},
        "colab_type": "code",
        "id": "xXdaV43xHYUj"
      },
      "outputs": [],
      "source": [
        "def train_model(model, optimizer, scheduler=None, num_epochs=25, return_dict=None):\n",
        "\n",
        "    device = torch.device(\"cpu\")\n",
        "    if torch.cuda.is_available():\n",
        "        device = torch.device(\"cuda:0\")\n",
        "        print(f\"Found GPU: {device}\")\n",
        "    elif torch.backends.mps.is_available():\n",
        "        device = torch.device(\"mps\")\n",
        "        print(f\"Found MPS: {device}\")\n",
        "\n",
        "    model.to(device)\n",
        "\n",
        "    best_loss = 1e10\n",
        "\n",
        "    if return_dict is None:\n",
        "        return_dict = {\n",
        "            'train': {'bce': [], 'dice': [], 'loss': []},\n",
        "            'val': {'bce': [], 'dice': [], 'loss': []},\n",
        "            'lrs': []\n",
        "        }\n",
        "\n",
        "    for epoch in range(num_epochs):\n",
        "\n",
        "        # training\n",
        "        model.train()  # Set model to training mode\n",
        "        for inputs, labels in tqdm(train_dl):\n",
        "\n",
        "            # to cuda if available\n",
        "            inputs = inputs.to(device)\n",
        "            labels = labels.to(device)\n",
        "\n",
        "            optimizer.zero_grad()\n",
        "\n",
        "            outputs = model(inputs)\n",
        "            loss, bce, dice = calc_loss(outputs, labels)\n",
        "\n",
        "            loss.backward()\n",
        "            optimizer.step()\n",
        "\n",
        "            # storing loss every step\n",
        "            return_dict['train']['bce'].append(bce.item())\n",
        "            return_dict['train']['dice'].append(dice.item())\n",
        "            return_dict['train']['loss'].append(loss.item())\n",
        "\n",
        "\n",
        "        # validation\n",
        "        model.eval()  # Set model to evaluation mode\n",
        "        loss_, bce_, dice_ = 0, 0, 0\n",
        "        for iter_val, (inputs, labels) in enumerate(val_dl):\n",
        "\n",
        "            # to cuda if available\n",
        "            inputs = inputs.to(device)\n",
        "            labels = labels.to(device)\n",
        "\n",
        "            with torch.no_grad():\n",
        "                outputs = model(inputs)\n",
        "                loss, bce, dice = calc_loss(outputs, labels)\n",
        "\n",
        "                loss_ += loss.item()\n",
        "                bce_ += bce.item()\n",
        "                dice_ += dice.item()\n",
        "\n",
        "        # storing loss every epoch            \n",
        "        return_dict['val']['bce'].append(bce_ / iter_val)\n",
        "        return_dict['val']['dice'].append(dice_ / iter_val)\n",
        "        return_dict['val']['loss'].append(loss_ / iter_val)\n",
        "\n",
        "        # save the model\n",
        "        if loss_ < best_loss:\n",
        "            best_loss = loss_\n",
        "            torch.save(model.state_dict(), 'saved_model.pt')\n",
        "\n",
        "\n",
        "        # store the changing lrs, so that we can look at them later\n",
        "        for param_group in optimizer.param_groups:\n",
        "            current_lr = param_group['lr']\n",
        "\n",
        "        return_dict['lrs'].append(current_lr)\n",
        "\n",
        "        print(f'Epoch {epoch + 1}/{num_epochs} (lr: {current_lr:.4f})-> dice: {dice_ / iter_val:.4f}, bce: {bce_ / iter_val:.4f}, loss: {loss_ / iter_val:.4f}')\n",
        "\n",
        "        if scheduler is not None:\n",
        "            # update learning rate\n",
        "            scheduler.step()\n",
        "\n",
        "    return return_dict"
      ]
    },
    {
      "cell_type": "markdown",
      "metadata": {},
      "source": [
        "### Train the model\n",
        "\n",
        "Use a scheduler to decay the learning rate by a factor `gamma` every `step_size` epochs"
      ]
    },
    {
      "cell_type": "code",
      "execution_count": 11,
      "metadata": {
        "colab": {
          "base_uri": "https://localhost:8080/",
          "height": 1000
        },
        "colab_type": "code",
        "id": "dquzt4w9Hnwg",
        "outputId": "ce573c0c-32b2-4d49-cc9e-99cfd00f6dad"
      },
      "outputs": [
        {
          "name": "stdout",
          "output_type": "stream",
          "text": [
            "Found GPU: cuda:0\n"
          ]
        },
        {
          "data": {
            "application/vnd.jupyter.widget-view+json": {
              "model_id": "5f46fcb7bc0a4359ba2fed49bbdab197",
              "version_major": 2,
              "version_minor": 0
            },
            "text/plain": [
              "  0%|          | 0/32 [00:00<?, ?it/s]"
            ]
          },
          "metadata": {},
          "output_type": "display_data"
        },
        {
          "name": "stdout",
          "output_type": "stream",
          "text": [
            "Epoch 1/20 (lr: 0.0010)-> dice: 1.6670, bce: 0.0413, loss: 0.8541\n"
          ]
        },
        {
          "data": {
            "application/vnd.jupyter.widget-view+json": {
              "model_id": "bfc9e6da77f94d6cb9b8138613ee3925",
              "version_major": 2,
              "version_minor": 0
            },
            "text/plain": [
              "  0%|          | 0/32 [00:00<?, ?it/s]"
            ]
          },
          "metadata": {},
          "output_type": "display_data"
        },
        {
          "name": "stdout",
          "output_type": "stream",
          "text": [
            "Epoch 2/20 (lr: 0.0008)-> dice: 1.4074, bce: 0.0482, loss: 0.7278\n"
          ]
        },
        {
          "data": {
            "application/vnd.jupyter.widget-view+json": {
              "model_id": "380e87d89337422097157f999c30beeb",
              "version_major": 2,
              "version_minor": 0
            },
            "text/plain": [
              "  0%|          | 0/32 [00:00<?, ?it/s]"
            ]
          },
          "metadata": {},
          "output_type": "display_data"
        },
        {
          "name": "stdout",
          "output_type": "stream",
          "text": [
            "Epoch 3/20 (lr: 0.0006)-> dice: 1.1389, bce: 0.0782, loss: 0.6086\n"
          ]
        },
        {
          "data": {
            "application/vnd.jupyter.widget-view+json": {
              "model_id": "5c24a54eb7494592ac1e6a4f578d6fd2",
              "version_major": 2,
              "version_minor": 0
            },
            "text/plain": [
              "  0%|          | 0/32 [00:00<?, ?it/s]"
            ]
          },
          "metadata": {},
          "output_type": "display_data"
        },
        {
          "name": "stdout",
          "output_type": "stream",
          "text": [
            "Epoch 4/20 (lr: 0.0005)-> dice: 0.7204, bce: 0.0375, loss: 0.3790\n"
          ]
        },
        {
          "data": {
            "application/vnd.jupyter.widget-view+json": {
              "model_id": "aa94f641402744c0a8e9666bd321496e",
              "version_major": 2,
              "version_minor": 0
            },
            "text/plain": [
              "  0%|          | 0/32 [00:00<?, ?it/s]"
            ]
          },
          "metadata": {},
          "output_type": "display_data"
        },
        {
          "name": "stdout",
          "output_type": "stream",
          "text": [
            "Epoch 5/20 (lr: 0.0004)-> dice: 0.5642, bce: 0.0273, loss: 0.2957\n"
          ]
        },
        {
          "data": {
            "application/vnd.jupyter.widget-view+json": {
              "model_id": "eac174e043c14daf84a3205d80b0d15d",
              "version_major": 2,
              "version_minor": 0
            },
            "text/plain": [
              "  0%|          | 0/32 [00:00<?, ?it/s]"
            ]
          },
          "metadata": {},
          "output_type": "display_data"
        },
        {
          "name": "stdout",
          "output_type": "stream",
          "text": [
            "Epoch 6/20 (lr: 0.0003)-> dice: 0.5243, bce: 0.0231, loss: 0.2737\n"
          ]
        },
        {
          "data": {
            "application/vnd.jupyter.widget-view+json": {
              "model_id": "d157a0eea8434ec58cf2400c124368f9",
              "version_major": 2,
              "version_minor": 0
            },
            "text/plain": [
              "  0%|          | 0/32 [00:00<?, ?it/s]"
            ]
          },
          "metadata": {},
          "output_type": "display_data"
        },
        {
          "name": "stdout",
          "output_type": "stream",
          "text": [
            "Epoch 7/20 (lr: 0.0003)-> dice: 0.4999, bce: 0.0207, loss: 0.2603\n"
          ]
        },
        {
          "data": {
            "application/vnd.jupyter.widget-view+json": {
              "model_id": "086918452c12437499377063a1c0000a",
              "version_major": 2,
              "version_minor": 0
            },
            "text/plain": [
              "  0%|          | 0/32 [00:00<?, ?it/s]"
            ]
          },
          "metadata": {},
          "output_type": "display_data"
        },
        {
          "name": "stdout",
          "output_type": "stream",
          "text": [
            "Epoch 8/20 (lr: 0.0002)-> dice: 0.4457, bce: 0.0195, loss: 0.2326\n"
          ]
        },
        {
          "data": {
            "application/vnd.jupyter.widget-view+json": {
              "model_id": "39a59b0975b64a21bd17717e368d04bd",
              "version_major": 2,
              "version_minor": 0
            },
            "text/plain": [
              "  0%|          | 0/32 [00:00<?, ?it/s]"
            ]
          },
          "metadata": {},
          "output_type": "display_data"
        },
        {
          "name": "stdout",
          "output_type": "stream",
          "text": [
            "Epoch 9/20 (lr: 0.0002)-> dice: 0.2960, bce: 0.0121, loss: 0.1540\n"
          ]
        },
        {
          "data": {
            "application/vnd.jupyter.widget-view+json": {
              "model_id": "81e45c6f74ba448081396ef34373859c",
              "version_major": 2,
              "version_minor": 0
            },
            "text/plain": [
              "  0%|          | 0/32 [00:00<?, ?it/s]"
            ]
          },
          "metadata": {},
          "output_type": "display_data"
        },
        {
          "name": "stdout",
          "output_type": "stream",
          "text": [
            "Epoch 10/20 (lr: 0.0001)-> dice: 0.1833, bce: 0.0111, loss: 0.0972\n"
          ]
        },
        {
          "data": {
            "application/vnd.jupyter.widget-view+json": {
              "model_id": "509c984f088e4529b4c7753b961a26ec",
              "version_major": 2,
              "version_minor": 0
            },
            "text/plain": [
              "  0%|          | 0/32 [00:00<?, ?it/s]"
            ]
          },
          "metadata": {},
          "output_type": "display_data"
        },
        {
          "name": "stdout",
          "output_type": "stream",
          "text": [
            "Epoch 11/20 (lr: 0.0001)-> dice: 0.1430, bce: 0.0102, loss: 0.0766\n"
          ]
        },
        {
          "data": {
            "application/vnd.jupyter.widget-view+json": {
              "model_id": "11a1820827bc4bf38456a8dc1e5a8100",
              "version_major": 2,
              "version_minor": 0
            },
            "text/plain": [
              "  0%|          | 0/32 [00:00<?, ?it/s]"
            ]
          },
          "metadata": {},
          "output_type": "display_data"
        },
        {
          "name": "stdout",
          "output_type": "stream",
          "text": [
            "Epoch 12/20 (lr: 0.0001)-> dice: 0.1273, bce: 0.0101, loss: 0.0687\n"
          ]
        },
        {
          "data": {
            "application/vnd.jupyter.widget-view+json": {
              "model_id": "31ec47aceb7a4b9590fb6c77820cac50",
              "version_major": 2,
              "version_minor": 0
            },
            "text/plain": [
              "  0%|          | 0/32 [00:00<?, ?it/s]"
            ]
          },
          "metadata": {},
          "output_type": "display_data"
        },
        {
          "name": "stdout",
          "output_type": "stream",
          "text": [
            "Epoch 13/20 (lr: 0.0001)-> dice: 0.1216, bce: 0.0103, loss: 0.0659\n"
          ]
        },
        {
          "data": {
            "application/vnd.jupyter.widget-view+json": {
              "model_id": "8c6d18408fb74c4095070bb491bc4f37",
              "version_major": 2,
              "version_minor": 0
            },
            "text/plain": [
              "  0%|          | 0/32 [00:00<?, ?it/s]"
            ]
          },
          "metadata": {},
          "output_type": "display_data"
        },
        {
          "name": "stdout",
          "output_type": "stream",
          "text": [
            "Epoch 14/20 (lr: 0.0001)-> dice: 0.1144, bce: 0.0092, loss: 0.0618\n"
          ]
        },
        {
          "data": {
            "application/vnd.jupyter.widget-view+json": {
              "model_id": "0a8d57e6234f4e209f53515b43c998fe",
              "version_major": 2,
              "version_minor": 0
            },
            "text/plain": [
              "  0%|          | 0/32 [00:00<?, ?it/s]"
            ]
          },
          "metadata": {},
          "output_type": "display_data"
        },
        {
          "name": "stdout",
          "output_type": "stream",
          "text": [
            "Epoch 15/20 (lr: 0.0000)-> dice: 0.1096, bce: 0.0092, loss: 0.0594\n"
          ]
        },
        {
          "data": {
            "application/vnd.jupyter.widget-view+json": {
              "model_id": "6b0829feec604535882fe0351239dd22",
              "version_major": 2,
              "version_minor": 0
            },
            "text/plain": [
              "  0%|          | 0/32 [00:00<?, ?it/s]"
            ]
          },
          "metadata": {},
          "output_type": "display_data"
        },
        {
          "name": "stdout",
          "output_type": "stream",
          "text": [
            "Epoch 16/20 (lr: 0.0000)-> dice: 0.1064, bce: 0.0091, loss: 0.0578\n"
          ]
        },
        {
          "data": {
            "application/vnd.jupyter.widget-view+json": {
              "model_id": "f1d31d1224ba404b9d91909662ba2c86",
              "version_major": 2,
              "version_minor": 0
            },
            "text/plain": [
              "  0%|          | 0/32 [00:00<?, ?it/s]"
            ]
          },
          "metadata": {},
          "output_type": "display_data"
        },
        {
          "name": "stdout",
          "output_type": "stream",
          "text": [
            "Epoch 17/20 (lr: 0.0000)-> dice: 0.1070, bce: 0.0087, loss: 0.0578\n"
          ]
        },
        {
          "data": {
            "application/vnd.jupyter.widget-view+json": {
              "model_id": "441b553b29574ff39e446226b3f3afc1",
              "version_major": 2,
              "version_minor": 0
            },
            "text/plain": [
              "  0%|          | 0/32 [00:00<?, ?it/s]"
            ]
          },
          "metadata": {},
          "output_type": "display_data"
        },
        {
          "name": "stdout",
          "output_type": "stream",
          "text": [
            "Epoch 18/20 (lr: 0.0000)-> dice: 0.1052, bce: 0.0091, loss: 0.0572\n"
          ]
        },
        {
          "data": {
            "application/vnd.jupyter.widget-view+json": {
              "model_id": "6e049aad27aa441b8cff53a0ffd806f4",
              "version_major": 2,
              "version_minor": 0
            },
            "text/plain": [
              "  0%|          | 0/32 [00:00<?, ?it/s]"
            ]
          },
          "metadata": {},
          "output_type": "display_data"
        },
        {
          "name": "stdout",
          "output_type": "stream",
          "text": [
            "Epoch 19/20 (lr: 0.0000)-> dice: 0.1024, bce: 0.0088, loss: 0.0556\n"
          ]
        },
        {
          "data": {
            "application/vnd.jupyter.widget-view+json": {
              "model_id": "d2247bfa14044d8b9a98f55795460815",
              "version_major": 2,
              "version_minor": 0
            },
            "text/plain": [
              "  0%|          | 0/32 [00:00<?, ?it/s]"
            ]
          },
          "metadata": {},
          "output_type": "display_data"
        },
        {
          "name": "stdout",
          "output_type": "stream",
          "text": [
            "Epoch 20/20 (lr: 0.0000)-> dice: 0.1006, bce: 0.0086, loss: 0.0546\n"
          ]
        }
      ],
      "source": [
        "model = UNet(6)\n",
        "\n",
        "optimizer_ft = optim.Adam(model.parameters(), lr=1e-3)\n",
        "lr_sch = lr_scheduler.StepLR(optimizer_ft, step_size=1, gamma=0.8)\n",
        "\n",
        "return_dict = train_model(model, optimizer_ft, lr_sch, num_epochs=20)"
      ]
    },
    {
      "cell_type": "markdown",
      "metadata": {},
      "source": [
        "### Plot the training metrics"
      ]
    },
    {
      "cell_type": "code",
      "execution_count": 15,
      "metadata": {},
      "outputs": [
        {
          "data": {
            "image/png": "[encoded data removed]",
            "text/plain": [
              "<Figure size 900x750 with 1 Axes>"
            ]
          },
          "metadata": {},
          "output_type": "display_data"
        }
      ],
      "source": [
        "fig = plt.figure(figsize=(6, 5), dpi=150)\n",
        "\n",
        "ax = fig.add_subplot(1, 1, 1)\n",
        "\n",
        "n_epochs = len(return_dict['val']['loss'])\n",
        "xs = np.linspace(0, n_epochs, len(return_dict['train']['loss']))\n",
        "\n",
        "ax.plot(xs, return_dict['train']['loss'], label='train', c='b', alpha=0.3)\n",
        "ax.plot(xs, return_dict['train']['bce'], label='train bce', c='r', alpha=0.3)\n",
        "ax.plot(xs, return_dict['train']['dice'], label='train dice', c='g', alpha=0.3)\n",
        "\n",
        "xs = np.arange(1, n_epochs + 1)\n",
        "ax.plot(xs, return_dict['val']['loss'], label='val', c='b', linestyle='--', marker='o')\n",
        "ax.plot(xs, return_dict['val']['bce'], label='val bce', c='r', linestyle='--', marker='o')\n",
        "ax.plot(xs, return_dict['val']['dice'], label='val dice', c='g', linestyle='--', marker='o')\n",
        "\n",
        "ax.legend()\n",
        "ax.set_xlabel('epochs')\n",
        "ax.set_ylabel('loss')\n",
        "\n",
        "plt.show()"
      ]
    },
    {
      "cell_type": "markdown",
      "metadata": {},
      "source": [
        "### The learning rate"
      ]
    },
    {
      "cell_type": "code",
      "execution_count": null,
      "metadata": {},
      "outputs": [
        {
          "data": {
            "image/png": "[encoded data removed]",
            "text/plain": [
              "<Figure size 640x480 with 1 Axes>"
            ]
          },
          "metadata": {},
          "output_type": "display_data"
        }
      ],
      "source": [
        "lrs = return_dict['lrs']\n",
        "xs = np.arange(1, len(lrs) + 1)\n",
        "\n",
        "plt.scatter(xs, lrs, label='learning rate', c='b', marker='o')\n",
        "plt.xlabel('epochs')\n",
        "plt.ylabel('learning rate')\n",
        "plt.show()"
      ]
    },
    {
      "cell_type": "markdown",
      "metadata": {},
      "source": [
        "## Evaluation"
      ]
    },
    {
      "cell_type": "code",
      "execution_count": 18,
      "metadata": {
        "colab": {
          "base_uri": "https://localhost:8080/",
          "height": 938
        },
        "colab_type": "code",
        "id": "CmQnXZJmH-Aw",
        "outputId": "8747fab6-a3f5-4c10-93b6-1d5addd880fc"
      },
      "outputs": [
        {
          "data": {
            "image/png": "[encoded data removed]",
            "text/plain": [
              "<Figure size 1200x400 with 3 Axes>"
            ]
          },
          "metadata": {},
          "output_type": "display_data"
        }
      ],
      "source": [
        "best_model_wts = torch.load('saved_model.pt', map_location='cpu')\n",
        "model = UNet(6)\n",
        "model.load_state_dict(best_model_wts)\n",
        "model = model.to('cpu') \n",
        "model.eval()   # Set model to evaluate mode\n",
        "\n",
        "idx = np.random.randint(0, len(val_ds))\n",
        "img, mask = val_ds[idx]\n",
        "img = img.unsqueeze(0)\n",
        "mask = mask.unsqueeze(0)\n",
        "\n",
        "pred = model(img) #.to(device))\n",
        "\n",
        "# Change channel-order and make 3 channels for matplot\n",
        "img_rgb = reverse_transform(img[0])\n",
        "\n",
        "# Map each channel (i.e. class) to each color\n",
        "mask_rgb = masks_to_rgb(mask)\n",
        "pred_rgb = masks_to_rgb(pred)\n",
        "\n",
        "plot_side_by_side([img_rgb, mask_rgb, pred_rgb])\n",
        "plt.show()"
      ]
    }
  ],
  "metadata": {
    "accelerator": "GPU",
    "colab": {
      "name": "UNET_Tutorial.ipynb",
      "provenance": []
    },
    "kernelspec": {
      "display_name": "common",
      "language": "python",
      "name": "python3"
    },
    "language_info": {
      "codemirror_mode": {
        "name": "ipython",
        "version": 3
      },
      "file_extension": ".py",
      "mimetype": "text/x-python",
      "name": "python",
      "nbconvert_exporter": "python",
      "pygments_lexer": "ipython3",
      "version": "3.11.9"
    }
  },
  "nbformat": 4,
  "nbformat_minor": 0
}
