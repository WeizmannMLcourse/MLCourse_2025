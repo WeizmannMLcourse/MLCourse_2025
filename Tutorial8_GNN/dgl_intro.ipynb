{
  "cells": [
    {
      "cell_type": "markdown",
      "metadata": {
        "id": "view-in-github",
        "colab_type": "text"
      },
      "source": [
        "<a href=\"https://colab.research.google.com/github/WeizmannMLcourse/MLCourse_2025/blob/main/Tutorial8_GNN/dgl_intro.ipynb\" target=\"_parent\"><img src=\"https://colab.research.google.com/assets/colab-badge.svg\" alt=\"Open In Colab\"/></a>"
      ]
    },
    {
      "cell_type": "code",
      "execution_count": 1,
      "metadata": {
        "id": "UNp5lIsUOyGt"
      },
      "outputs": [],
      "source": [
        "%matplotlib inline"
      ]
    },
    {
      "cell_type": "markdown",
      "metadata": {
        "id": "KHyNhTAfOyGv"
      },
      "source": [
        "# This nb is modified from DGL documentation\n",
        "- https://docs.dgl.ai/en/0.8.x/tutorials/blitz/1_introduction.html\n",
        "- https://docs.dgl.ai/en/0.8.x/tutorials/blitz/3_message_passing.html \\\n",
        "With some additional material..."
      ]
    },
    {
      "cell_type": "markdown",
      "metadata": {
        "id": "R2mXsUT_OyGw"
      },
      "source": [
        "# Installation\n",
        "\n",
        "Installing DGL can be a bit tricky. This is what worked for me on:\n",
        "\n",
        "**Colab** (i.e. Linux)\n",
        "\n",
        "- CPU-only\n",
        "```\n",
        "pip uninstall -y torch torchvision torchaudio torchdata\n",
        "pip install torch==2.4.0 torchvision==0.19.0 torchaudio==2.4.0 --index-url https://download.pytorch.org/whl/cpu\n",
        "pip install  dgl -f https://data.dgl.ai/wheels/torch-2.4/repo.html\n",
        "```\n",
        "\n",
        "- with CUDA\n",
        "```\n",
        "pip uninstall -y torch torchvision torchaudio torchdata\n",
        "pip install torch==2.4.0 torchvision==0.19.0 torchaudio==2.4.0 --index-url https://download.pytorch.org/whl/cu124\n",
        "pip install dgl -f https://data.dgl.ai/wheels/torch-2.4/cu124/repo.html\n",
        "```\n",
        "\n",
        "\n",
        "**macOS:**\n",
        "```\n",
        "conda create -n dgl-env python=3.10 -y\n",
        "conda activate dgl-env\n",
        "pip install dgl==1.1.2 torch torchvision packaging\n",
        "```"
      ]
    },
    {
      "cell_type": "code",
      "source": [
        "! pip uninstall -y torch torchvision torchaudio torchdata\n",
        "! pip install torch==2.4.0 torchvision==0.19.0 torchaudio==2.4.0 --index-url https://download.pytorch.org/whl/cpu\n",
        "! pip install  dgl -f https://data.dgl.ai/wheels/torch-2.4/repo.html"
      ],
      "metadata": {
        "id": "RGR99U1oPb1Y",
        "outputId": "ea35f6ed-1cdd-4a52-9f45-abec190f3ed0",
        "colab": {
          "base_uri": "https://localhost:8080/"
        }
      },
      "execution_count": 2,
      "outputs": [
        {
          "output_type": "stream",
          "name": "stdout",
          "text": [
            "Found existing installation: torch 2.6.0+cu124\n",
            "Uninstalling torch-2.6.0+cu124:\n",
            "  Successfully uninstalled torch-2.6.0+cu124\n",
            "Found existing installation: torchvision 0.21.0+cu124\n",
            "Uninstalling torchvision-0.21.0+cu124:\n",
            "  Successfully uninstalled torchvision-0.21.0+cu124\n",
            "Found existing installation: torchaudio 2.6.0+cu124\n",
            "Uninstalling torchaudio-2.6.0+cu124:\n",
            "  Successfully uninstalled torchaudio-2.6.0+cu124\n",
            "Found existing installation: torchdata 0.11.0\n",
            "Uninstalling torchdata-0.11.0:\n",
            "  Successfully uninstalled torchdata-0.11.0\n",
            "Looking in indexes: https://download.pytorch.org/whl/cpu\n",
            "Collecting torch==2.4.0\n",
            "  Downloading https://download.pytorch.org/whl/cpu/torch-2.4.0%2Bcpu-cp311-cp311-linux_x86_64.whl (195.1 MB)\n",
            "\u001b[2K     \u001b[90m━━━━━━━━━━━━━━━━━━━━━━━━━━━━━━━━━━━━━━━\u001b[0m \u001b[32m195.1/195.1 MB\u001b[0m \u001b[31m6.2 MB/s\u001b[0m eta \u001b[36m0:00:00\u001b[0m\n",
            "\u001b[?25hCollecting torchvision==0.19.0\n",
            "  Downloading https://download.pytorch.org/whl/cpu/torchvision-0.19.0%2Bcpu-cp311-cp311-linux_x86_64.whl (1.6 MB)\n",
            "\u001b[2K     \u001b[90m━━━━━━━━━━━━━━━━━━━━━━━━━━━━━━━━━━━━━━━━\u001b[0m \u001b[32m1.6/1.6 MB\u001b[0m \u001b[31m49.5 MB/s\u001b[0m eta \u001b[36m0:00:00\u001b[0m\n",
            "\u001b[?25hCollecting torchaudio==2.4.0\n",
            "  Downloading https://download.pytorch.org/whl/cpu/torchaudio-2.4.0%2Bcpu-cp311-cp311-linux_x86_64.whl (1.7 MB)\n",
            "\u001b[2K     \u001b[90m━━━━━━━━━━━━━━━━━━━━━━━━━━━━━━━━━━━━━━━━\u001b[0m \u001b[32m1.7/1.7 MB\u001b[0m \u001b[31m52.0 MB/s\u001b[0m eta \u001b[36m0:00:00\u001b[0m\n",
            "\u001b[?25hRequirement already satisfied: filelock in /usr/local/lib/python3.11/dist-packages (from torch==2.4.0) (3.18.0)\n",
            "Requirement already satisfied: typing-extensions>=4.8.0 in /usr/local/lib/python3.11/dist-packages (from torch==2.4.0) (4.13.2)\n",
            "Requirement already satisfied: sympy in /usr/local/lib/python3.11/dist-packages (from torch==2.4.0) (1.13.1)\n",
            "Requirement already satisfied: networkx in /usr/local/lib/python3.11/dist-packages (from torch==2.4.0) (3.4.2)\n",
            "Requirement already satisfied: jinja2 in /usr/local/lib/python3.11/dist-packages (from torch==2.4.0) (3.1.6)\n",
            "Requirement already satisfied: fsspec in /usr/local/lib/python3.11/dist-packages (from torch==2.4.0) (2025.3.2)\n",
            "Requirement already satisfied: numpy in /usr/local/lib/python3.11/dist-packages (from torchvision==0.19.0) (2.0.2)\n",
            "Requirement already satisfied: pillow!=8.3.*,>=5.3.0 in /usr/local/lib/python3.11/dist-packages (from torchvision==0.19.0) (11.2.1)\n",
            "Requirement already satisfied: MarkupSafe>=2.0 in /usr/local/lib/python3.11/dist-packages (from jinja2->torch==2.4.0) (3.0.2)\n",
            "Requirement already satisfied: mpmath<1.4,>=1.1.0 in /usr/local/lib/python3.11/dist-packages (from sympy->torch==2.4.0) (1.3.0)\n",
            "Installing collected packages: torch, torchvision, torchaudio\n",
            "Successfully installed torch-2.4.0+cpu torchaudio-2.4.0+cpu torchvision-0.19.0+cpu\n",
            "Looking in links: https://data.dgl.ai/wheels/torch-2.4/repo.html\n",
            "Collecting dgl\n",
            "  Downloading https://data.dgl.ai/wheels/torch-2.4/dgl-2.5.0-cp311-cp311-manylinux1_x86_64.whl (4.8 MB)\n",
            "\u001b[2K     \u001b[90m━━━━━━━━━━━━━━━━━━━━━━━━━━━━━━━━━━━━━━━━\u001b[0m \u001b[32m4.8/4.8 MB\u001b[0m \u001b[31m10.4 MB/s\u001b[0m eta \u001b[36m0:00:00\u001b[0m\n",
            "\u001b[?25hDiscarding \u001b[4;34mhttps://data.dgl.ai/wheels/torch-2.4/dgl-2.5.0-cp311-cp311-manylinux1_x86_64.whl (from https://data.dgl.ai/wheels/torch-2.4/repo.html)\u001b[0m: \u001b[33mRequested dgl from https://data.dgl.ai/wheels/torch-2.4/dgl-2.5.0-cp311-cp311-manylinux1_x86_64.whl has inconsistent version: expected '2.5.0', but metadata has '2.5.0+cpu'\u001b[0m\n",
            "  Downloading https://data.dgl.ai/wheels/torch-2.4/dgl-2.4.0-cp311-cp311-manylinux1_x86_64.whl (6.8 MB)\n",
            "\u001b[2K     \u001b[90m━━━━━━━━━━━━━━━━━━━━━━━━━━━━━━━━━━━━━━━━\u001b[0m \u001b[32m6.8/6.8 MB\u001b[0m \u001b[31m84.5 MB/s\u001b[0m eta \u001b[36m0:00:00\u001b[0m\n",
            "\u001b[?25hRequirement already satisfied: networkx>=2.1 in /usr/local/lib/python3.11/dist-packages (from dgl) (3.4.2)\n",
            "Requirement already satisfied: numpy>=1.14.0 in /usr/local/lib/python3.11/dist-packages (from dgl) (2.0.2)\n",
            "Requirement already satisfied: packaging in /usr/local/lib/python3.11/dist-packages (from dgl) (24.2)\n",
            "Requirement already satisfied: pandas in /usr/local/lib/python3.11/dist-packages (from dgl) (2.2.2)\n",
            "Requirement already satisfied: psutil>=5.8.0 in /usr/local/lib/python3.11/dist-packages (from dgl) (5.9.5)\n",
            "Requirement already satisfied: pydantic>=2.0 in /usr/local/lib/python3.11/dist-packages (from dgl) (2.11.4)\n",
            "Requirement already satisfied: pyyaml in /usr/local/lib/python3.11/dist-packages (from dgl) (6.0.2)\n",
            "Requirement already satisfied: requests>=2.19.0 in /usr/local/lib/python3.11/dist-packages (from dgl) (2.32.3)\n",
            "Requirement already satisfied: scipy>=1.1.0 in /usr/local/lib/python3.11/dist-packages (from dgl) (1.15.3)\n",
            "Requirement already satisfied: tqdm in /usr/local/lib/python3.11/dist-packages (from dgl) (4.67.1)\n",
            "Requirement already satisfied: torch<=2.4.0 in /usr/local/lib/python3.11/dist-packages (from dgl) (2.4.0+cpu)\n",
            "Requirement already satisfied: annotated-types>=0.6.0 in /usr/local/lib/python3.11/dist-packages (from pydantic>=2.0->dgl) (0.7.0)\n",
            "Requirement already satisfied: pydantic-core==2.33.2 in /usr/local/lib/python3.11/dist-packages (from pydantic>=2.0->dgl) (2.33.2)\n",
            "Requirement already satisfied: typing-extensions>=4.12.2 in /usr/local/lib/python3.11/dist-packages (from pydantic>=2.0->dgl) (4.13.2)\n",
            "Requirement already satisfied: typing-inspection>=0.4.0 in /usr/local/lib/python3.11/dist-packages (from pydantic>=2.0->dgl) (0.4.0)\n",
            "Requirement already satisfied: charset-normalizer<4,>=2 in /usr/local/lib/python3.11/dist-packages (from requests>=2.19.0->dgl) (3.4.2)\n",
            "Requirement already satisfied: idna<4,>=2.5 in /usr/local/lib/python3.11/dist-packages (from requests>=2.19.0->dgl) (3.10)\n",
            "Requirement already satisfied: urllib3<3,>=1.21.1 in /usr/local/lib/python3.11/dist-packages (from requests>=2.19.0->dgl) (2.4.0)\n",
            "Requirement already satisfied: certifi>=2017.4.17 in /usr/local/lib/python3.11/dist-packages (from requests>=2.19.0->dgl) (2025.4.26)\n",
            "Requirement already satisfied: filelock in /usr/local/lib/python3.11/dist-packages (from torch<=2.4.0->dgl) (3.18.0)\n",
            "Requirement already satisfied: sympy in /usr/local/lib/python3.11/dist-packages (from torch<=2.4.0->dgl) (1.13.1)\n",
            "Requirement already satisfied: jinja2 in /usr/local/lib/python3.11/dist-packages (from torch<=2.4.0->dgl) (3.1.6)\n",
            "Requirement already satisfied: fsspec in /usr/local/lib/python3.11/dist-packages (from torch<=2.4.0->dgl) (2025.3.2)\n",
            "Requirement already satisfied: python-dateutil>=2.8.2 in /usr/local/lib/python3.11/dist-packages (from pandas->dgl) (2.9.0.post0)\n",
            "Requirement already satisfied: pytz>=2020.1 in /usr/local/lib/python3.11/dist-packages (from pandas->dgl) (2025.2)\n",
            "Requirement already satisfied: tzdata>=2022.7 in /usr/local/lib/python3.11/dist-packages (from pandas->dgl) (2025.2)\n",
            "Requirement already satisfied: six>=1.5 in /usr/local/lib/python3.11/dist-packages (from python-dateutil>=2.8.2->pandas->dgl) (1.17.0)\n",
            "Requirement already satisfied: MarkupSafe>=2.0 in /usr/local/lib/python3.11/dist-packages (from jinja2->torch<=2.4.0->dgl) (3.0.2)\n",
            "Requirement already satisfied: mpmath<1.4,>=1.1.0 in /usr/local/lib/python3.11/dist-packages (from sympy->torch<=2.4.0->dgl) (1.3.0)\n",
            "Installing collected packages: dgl\n",
            "Successfully installed dgl-2.4.0\n"
          ]
        }
      ]
    },
    {
      "cell_type": "markdown",
      "metadata": {
        "id": "O5ZqLg88OyGw"
      },
      "source": [
        "\n",
        "How Does DGL Represent A Graph?\n",
        "===============================\n",
        "\n",
        "By the end of this tutorial you will be able to:\n",
        "\n",
        "-  Construct a graph in DGL from scratch.\n",
        "-  Assign node and edge features to a graph.\n",
        "-  Query properties of a DGL graph such as node degrees and\n",
        "   connectivity.\n",
        "-  Transform a DGL graph into another graph.\n",
        "-  Load and save DGL graphs.\n",
        "\n",
        "(Time estimate: 16 minutes)\n"
      ]
    },
    {
      "cell_type": "markdown",
      "metadata": {
        "id": "IjAVWPirOyGx"
      },
      "source": [
        "DGL Graph Construction\n",
        "----------------------\n",
        "\n",
        "DGL represents a directed graph as a ``DGLGraph`` object. You can\n",
        "construct a graph by specifying the number of nodes in the graph as well\n",
        "as the list of source and destination nodes.  Nodes in the graph have\n",
        "consecutive IDs starting from 0.\n",
        "\n",
        "For instance, the following code constructs a directed star graph with 5\n",
        "leaves. The center node's ID is 0. The edges go from the\n",
        "center node to the leaves.\n",
        "\n",
        "\n"
      ]
    },
    {
      "cell_type": "code",
      "execution_count": 3,
      "metadata": {
        "id": "8zaJD8egOyGx",
        "outputId": "839f9d38-08df-4057-a7f5-794efbcc8813",
        "colab": {
          "base_uri": "https://localhost:8080/"
        }
      },
      "outputs": [
        {
          "output_type": "stream",
          "name": "stderr",
          "text": [
            "DGL backend not selected or invalid.  Assuming PyTorch for now.\n"
          ]
        },
        {
          "output_type": "stream",
          "name": "stdout",
          "text": [
            "Setting the default backend to \"pytorch\". You can change it in the ~/.dgl/config.json file or export the DGLBACKEND environment variable.  Valid options are: pytorch, mxnet, tensorflow (all lowercase)\n"
          ]
        }
      ],
      "source": [
        "import dgl\n",
        "import numpy as np\n",
        "import torch\n",
        "\n",
        "g = dgl.graph(([0, 0, 0, 0, 0], [1, 2, 3, 4, 5]), num_nodes=6)\n",
        "# Equivalently, PyTorch LongTensors also work.\n",
        "g = dgl.graph((torch.LongTensor([0, 0, 0, 0, 0]), torch.LongTensor([1, 2, 3, 4, 5])), num_nodes=6)\n",
        "\n",
        "# You can omit the number of nodes argument if you can tell the number of nodes from the edge list alone.\n",
        "g = dgl.graph(([0, 0, 0, 0, 0], [1, 2, 3, 4, 5]))"
      ]
    },
    {
      "cell_type": "markdown",
      "metadata": {
        "id": "NgzBbwN2OyGx"
      },
      "source": [
        "Edges in the graph have consecutive IDs starting from 0, and are\n",
        "in the same order as the list of source and destination nodes during\n",
        "creation.\n",
        "\n",
        "\n"
      ]
    },
    {
      "cell_type": "code",
      "execution_count": 4,
      "metadata": {
        "id": "tv0iH8KZOyGy",
        "outputId": "89bfdb2c-ddae-4267-8287-76a62c83f54f",
        "colab": {
          "base_uri": "https://localhost:8080/"
        }
      },
      "outputs": [
        {
          "output_type": "stream",
          "name": "stdout",
          "text": [
            "(tensor([0, 0, 0, 0, 0]), tensor([1, 2, 3, 4, 5]))\n"
          ]
        }
      ],
      "source": [
        "# Print the source and destination nodes of every edge.\n",
        "print(g.edges())"
      ]
    },
    {
      "cell_type": "markdown",
      "metadata": {
        "id": "9w0a5hNfOyGy"
      },
      "source": [
        "<div class=\"alert alert-info\"><h4>Note</h4><p>``DGLGraph``'s are always directed to best fit the computation\n",
        "   pattern of graph neural networks, where the messages sent\n",
        "   from one node to the other are often different between both\n",
        "   directions. If you want to handle undirected graphs, you may consider\n",
        "   treating it as a bidirectional graph. See `Graph\n",
        "   Transformations`_ for an example of making\n",
        "   a bidirectional graph.</p></div>\n",
        "\n",
        "\n"
      ]
    },
    {
      "cell_type": "markdown",
      "metadata": {
        "id": "T69sCBMKOyGy"
      },
      "source": [
        "### We can add and remove edges"
      ]
    },
    {
      "cell_type": "code",
      "execution_count": 5,
      "metadata": {
        "id": "GSl0_A-NOyGz",
        "outputId": "26792e00-e2a7-4c77-c2c8-c7181235a6c1",
        "colab": {
          "base_uri": "https://localhost:8080/"
        }
      },
      "outputs": [
        {
          "output_type": "stream",
          "name": "stdout",
          "text": [
            "(tensor([0, 0, 0, 0, 0, 1, 2, 2]), tensor([1, 2, 3, 4, 5, 0, 0, 5]))\n",
            "(tensor([0, 0, 0]), tensor([3, 4, 5]))\n"
          ]
        }
      ],
      "source": [
        "g1 = dgl.graph(([0, 0, 0, 0, 0], [1, 2, 3, 4, 5]))\n",
        "g1 = dgl.add_edges(g1, [1, 2, 2], [0, 0, 5])\n",
        "print(g1.edges())\n",
        "\n",
        "g2 = dgl.graph(([0, 0, 0, 0, 0], [1, 2, 3, 4, 5]))\n",
        "g2 = dgl.remove_edges(g2,[0,1])\n",
        "print(g2.edges())"
      ]
    },
    {
      "cell_type": "markdown",
      "metadata": {
        "id": "TLzjkkXsOyGz"
      },
      "source": [
        "### We can visualize the graph using `networkx`"
      ]
    },
    {
      "cell_type": "code",
      "execution_count": 6,
      "metadata": {
        "id": "GWzKvT-POyGz",
        "outputId": "1444bb6a-392d-4358-be33-8f7af4c2191c",
        "colab": {
          "base_uri": "https://localhost:8080/",
          "height": 442
        }
      },
      "outputs": [
        {
          "output_type": "display_data",
          "data": {
            "text/plain": [
              "<Figure size 1500x500 with 3 Axes>"
            ],
            "image/png": "[encoded data removed]"
          },
          "metadata": {}
        }
      ],
      "source": [
        "import networkx as nx\n",
        "import matplotlib.pyplot as plt\n",
        "\n",
        "fig, axes = plt.subplots(1, 3, figsize=(15, 5))\n",
        "\n",
        "for i, g_ in enumerate([g, g1, g2]):\n",
        "    nx.draw(g_.to_networkx(), with_labels=True, ax=axes[i])"
      ]
    },
    {
      "cell_type": "markdown",
      "metadata": {
        "id": "fA9rgMliOyGz"
      },
      "source": [
        "### We can also convert a graph to a bidirectional one"
      ]
    },
    {
      "cell_type": "code",
      "execution_count": 7,
      "metadata": {
        "id": "KijGvCPhOyG0"
      },
      "outputs": [],
      "source": [
        "g = dgl.to_bidirected(g)"
      ]
    },
    {
      "cell_type": "markdown",
      "metadata": {
        "id": "qL7RrB0XOyG0"
      },
      "source": [
        "Assigning Node and Edge Features to Graph\n",
        "-----------------------------------------\n",
        "\n",
        "Many graph data contain attributes on nodes and edges.\n",
        "Although the types of node and edge attributes can be arbitrary in real\n",
        "world, ``DGLGraph`` only accepts attributes stored in tensors (with\n",
        "numerical contents). Consequently, an attribute of all the nodes or\n",
        "edges must have the same shape. In the context of deep learning, those\n",
        "attributes are often called *features*.\n",
        "\n",
        "You can assign and retrieve node and edge features via ``ndata`` and\n",
        "``edata`` interface.\n",
        "\n",
        "\n"
      ]
    },
    {
      "cell_type": "code",
      "execution_count": 8,
      "metadata": {
        "id": "MvilsVEqOyG0",
        "outputId": "db63d4e1-fd65-456d-e330-b3c6dddf6006",
        "colab": {
          "base_uri": "https://localhost:8080/"
        }
      },
      "outputs": [
        {
          "output_type": "stream",
          "name": "stdout",
          "text": [
            "tensor([[-0.3462,  1.2341,  0.2422, -0.4255],\n",
            "        [ 0.6616,  1.6585, -0.1875, -0.2034],\n",
            "        [-0.1464, -0.5332,  0.4297, -0.0540],\n",
            "        [-1.6274,  0.7018, -0.7130,  0.9671],\n",
            "        [-2.1536, -0.0134, -1.1514,  0.1471],\n",
            "        [-1.8231,  0.5754, -0.0688,  1.6610],\n",
            "        [ 0.8332,  0.3788,  0.0359,  0.9792],\n",
            "        [-0.9773,  0.7648, -0.3795, -0.4840],\n",
            "        [-1.4897, -1.8913,  0.3237, -0.7230],\n",
            "        [-0.7883, -0.0256, -1.6539,  1.9531]])\n"
          ]
        }
      ],
      "source": [
        "# Assign a 3-dimensional node feature vector for each node.\n",
        "g.ndata['x'] = torch.randn(6, 3)\n",
        "# Assign a 4-dimensional edge feature vector for each edge.\n",
        "g.edata['a'] = torch.randn(g.num_edges(), 4)\n",
        "# Assign a 5x4 node feature matrix for each node.  Node and edge features in DGL can be multi-dimensional.\n",
        "g.ndata['y'] = torch.randn(6, 5, 4)\n",
        "\n",
        "print(g.edata['a'])"
      ]
    },
    {
      "cell_type": "markdown",
      "metadata": {
        "id": "7q8swh4QOyG0"
      },
      "source": [
        "<div class=\"alert alert-info\"><h4>Note</h4><p>The vast development of deep learning has provided us many\n",
        "   ways to encode various types of attributes into numerical features.\n",
        "   Here are some general suggestions:\n",
        "\n",
        "   -  For categorical attributes (e.g. gender, occupation), consider\n",
        "      converting them to integers or one-hot encoding.\n",
        "   -  For variable length string contents (e.g. news article, quote),\n",
        "      consider applying a language model.\n",
        "   -  For images, consider applying a vision model such as CNNs.\n",
        "\n",
        "   You can find plenty of materials on how to encode such attributes\n",
        "   into a tensor in the `PyTorch Deep Learning\n",
        "   Tutorials <https://pytorch.org/tutorials/>`__.</p></div>\n",
        "\n",
        "\n"
      ]
    },
    {
      "cell_type": "markdown",
      "metadata": {
        "id": "9AeY5PTWOyG0"
      },
      "source": [
        "Querying Graph Structures\n",
        "-------------------------\n",
        "\n",
        "``DGLGraph`` object provides various methods to query a graph structure.\n",
        "\n",
        "\n"
      ]
    },
    {
      "cell_type": "code",
      "execution_count": 9,
      "metadata": {
        "id": "vhzE_PqtOyG0",
        "outputId": "3943bdcd-730f-470e-bee9-c70df5b42f91",
        "colab": {
          "base_uri": "https://localhost:8080/"
        }
      },
      "outputs": [
        {
          "output_type": "stream",
          "name": "stdout",
          "text": [
            "6\n",
            "10\n",
            "5\n",
            "5\n"
          ]
        }
      ],
      "source": [
        "print(g.num_nodes())\n",
        "print(g.num_edges())\n",
        "# Out degrees of the center node\n",
        "print(g.out_degrees(0))\n",
        "# In degrees of the center node - note that the graph is undirected so the in and out degrees should match\n",
        "print(g.in_degrees(0))"
      ]
    },
    {
      "cell_type": "markdown",
      "metadata": {
        "id": "W4zr8FujOyG1"
      },
      "source": [
        "# Message passing"
      ]
    },
    {
      "cell_type": "markdown",
      "metadata": {
        "id": "NE4OGF9AOyG1"
      },
      "source": [
        "<img src=\"https://github.com/WeizmannMLcourse/MLCourse_2025/blob/main/Tutorial8_GNN/messages.jpeg?raw=1\"  width=\"500\" height=\"665\">"
      ]
    },
    {
      "cell_type": "markdown",
      "metadata": {
        "id": "JS_YPgDQOyG1"
      },
      "source": [
        "### In DGL the `update_all` function can be used to perform all three steps in one go"
      ]
    },
    {
      "cell_type": "markdown",
      "metadata": {
        "id": "ppCvjoRCOyG1"
      },
      "source": [
        "### First load some ones onto all the nodes"
      ]
    },
    {
      "cell_type": "code",
      "execution_count": 10,
      "metadata": {
        "id": "aXc7fPq-OyG1",
        "outputId": "916e79f0-63df-4130-baa0-76b54555a3e0",
        "colab": {
          "base_uri": "https://localhost:8080/"
        }
      },
      "outputs": [
        {
          "output_type": "stream",
          "name": "stdout",
          "text": [
            "tensor([[1., 1., 1., 1.],\n",
            "        [1., 1., 1., 1.],\n",
            "        [1., 1., 1., 1.],\n",
            "        [1., 1., 1., 1.],\n",
            "        [1., 1., 1., 1.],\n",
            "        [1., 1., 1., 1.]])\n"
          ]
        },
        {
          "output_type": "stream",
          "name": "stderr",
          "text": [
            "/usr/local/lib/python3.11/dist-packages/dgl/readout.py:443: DGLWarning: For a single graph, use a tensor of shape (1, *) for graph_feat. The support of shape (*) will be deprecated.\n",
            "  dgl_warning(\n"
          ]
        }
      ],
      "source": [
        "import dgl.function as fn\n",
        "\n",
        "ones = torch.ones(4)\n",
        "g.ndata['count'] = dgl.broadcast_nodes(g, ones)\n",
        "print(g.ndata['count'])"
      ]
    },
    {
      "cell_type": "markdown",
      "metadata": {
        "id": "CoIi_8exOyG1"
      },
      "source": [
        "### Then for each node, let's add up its neighbors"
      ]
    },
    {
      "cell_type": "code",
      "execution_count": 11,
      "metadata": {
        "id": "aeCzrMK1OyG1"
      },
      "outputs": [],
      "source": [
        "g.update_all(\n",
        "    fn.copy_u('count', 'm'), # <-- propagate\n",
        "    fn.sum('m', 'sum')       # <-- aggregate\n",
        "    )"
      ]
    },
    {
      "cell_type": "markdown",
      "metadata": {
        "id": "TXnkaqQ-OyG1"
      },
      "source": [
        "### Let's look at the resulting feature"
      ]
    },
    {
      "cell_type": "code",
      "execution_count": 12,
      "metadata": {
        "id": "8wXni5lWOyG1",
        "outputId": "bad17451-63db-4e5c-f6fa-4a91ac894460",
        "colab": {
          "base_uri": "https://localhost:8080/"
        }
      },
      "outputs": [
        {
          "output_type": "stream",
          "name": "stdout",
          "text": [
            "tensor([[5., 5., 5., 5.],\n",
            "        [1., 1., 1., 1.],\n",
            "        [1., 1., 1., 1.],\n",
            "        [1., 1., 1., 1.],\n",
            "        [1., 1., 1., 1.],\n",
            "        [1., 1., 1., 1.]])\n"
          ]
        }
      ],
      "source": [
        "print(g.ndata['sum'])"
      ]
    },
    {
      "cell_type": "markdown",
      "metadata": {
        "id": "RgsPico2OyG2"
      },
      "source": [
        "### We can define our own custom aggregate function"
      ]
    },
    {
      "cell_type": "code",
      "execution_count": 13,
      "metadata": {
        "id": "4SWoCafROyG2"
      },
      "outputs": [],
      "source": [
        "### For aggregating, DGL assumes that the input is the set of nodes\n",
        "def my_function(nodes):\n",
        "    mail = nodes.mailbox['m']\n",
        "    my_sum = torch.sum(mail,dim=1) / g.num_nodes()\n",
        "\n",
        "    ### It should return a dictionary representing the name and the value of the (new) node feature\n",
        "    return {'my sum': my_sum}"
      ]
    },
    {
      "cell_type": "code",
      "execution_count": 14,
      "metadata": {
        "id": "LH5AGMuZOyG2"
      },
      "outputs": [],
      "source": [
        "g.update_all(\n",
        "    fn.copy_u('count', 'm'), # <-- propagate\n",
        "    my_function              # <-- aggregate\n",
        "    )"
      ]
    },
    {
      "cell_type": "code",
      "execution_count": 15,
      "metadata": {
        "id": "oKPTFqAqOyG2",
        "outputId": "26bfd40c-a0fb-44e1-acb8-674371b3c9ed",
        "colab": {
          "base_uri": "https://localhost:8080/"
        }
      },
      "outputs": [
        {
          "output_type": "stream",
          "name": "stdout",
          "text": [
            "tensor([[0.8333, 0.8333, 0.8333, 0.8333],\n",
            "        [0.1667, 0.1667, 0.1667, 0.1667],\n",
            "        [0.1667, 0.1667, 0.1667, 0.1667],\n",
            "        [0.1667, 0.1667, 0.1667, 0.1667],\n",
            "        [0.1667, 0.1667, 0.1667, 0.1667],\n",
            "        [0.1667, 0.1667, 0.1667, 0.1667]])\n"
          ]
        }
      ],
      "source": [
        "print(g.ndata['my sum'])"
      ]
    },
    {
      "cell_type": "markdown",
      "metadata": {
        "id": "UK27yYOpOyG2"
      },
      "source": [
        "### Similarly, we can create our own propagation function"
      ]
    },
    {
      "cell_type": "code",
      "execution_count": 16,
      "metadata": {
        "id": "_04Oq5OnOyG2"
      },
      "outputs": [],
      "source": [
        "### For propagating, DGL assumes that the input is the set of edges\n",
        "def propagate(edges):\n",
        "\n",
        "    ### It should return a dictionary representing the name and the value of the (new) edge feature\n",
        "    return {'m': edges.src['count'], 'a': edges.data['a']}"
      ]
    },
    {
      "cell_type": "code",
      "execution_count": 17,
      "metadata": {
        "id": "SMlIQrUROyG3"
      },
      "outputs": [],
      "source": [
        "### A second example of custom aggregation function (weighted sum)\n",
        "def sum_count_times_a(nodes):\n",
        "    mail      = nodes.mailbox['m']\n",
        "    edge_mail = nodes.mailbox['a']\n",
        "\n",
        "    #edge-weighted sum\n",
        "    my_sum    = torch.sum(mail * edge_mail, dim=1)\n",
        "\n",
        "    return {'my sum': my_sum}"
      ]
    },
    {
      "cell_type": "code",
      "execution_count": 18,
      "metadata": {
        "id": "2e2MiJtgOyG3"
      },
      "outputs": [],
      "source": [
        "g.update_all(\n",
        "    propagate,         # <-- propagate\n",
        "    sum_count_times_a  # <-- aggregate\n",
        "    )"
      ]
    },
    {
      "cell_type": "code",
      "execution_count": 19,
      "metadata": {
        "id": "InH3jtbGOyG3",
        "outputId": "2bfeec32-87d1-410f-dc91-03da5408c1e0",
        "colab": {
          "base_uri": "https://localhost:8080/"
        }
      },
      "outputs": [
        {
          "output_type": "stream",
          "name": "stdout",
          "text": [
            "tensor([[-4.2452, -0.1979, -1.7426,  3.3862],\n",
            "        [-0.3462,  1.2341,  0.2422, -0.4255],\n",
            "        [ 0.6616,  1.6585, -0.1875, -0.2034],\n",
            "        [-0.1464, -0.5332,  0.4297, -0.0540],\n",
            "        [-1.6274,  0.7018, -0.7130,  0.9671],\n",
            "        [-2.1536, -0.0134, -1.1514,  0.1471]])\n"
          ]
        }
      ],
      "source": [
        "print(g.ndata['my sum'])"
      ]
    }
  ],
  "metadata": {
    "kernelspec": {
      "display_name": "Python 3",
      "language": "python",
      "name": "python3"
    },
    "language_info": {
      "codemirror_mode": {
        "name": "ipython",
        "version": 3
      },
      "file_extension": ".py",
      "mimetype": "text/x-python",
      "name": "python",
      "nbconvert_exporter": "python",
      "pygments_lexer": "ipython3",
      "version": "3.11.6"
    },
    "colab": {
      "provenance": [],
      "include_colab_link": true
    }
  },
  "nbformat": 4,
  "nbformat_minor": 0
}