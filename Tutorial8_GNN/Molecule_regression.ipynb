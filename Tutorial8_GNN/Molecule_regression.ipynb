{
  "cells": [
    {
      "cell_type": "markdown",
      "metadata": {
        "id": "view-in-github",
        "colab_type": "text"
      },
      "source": [
        "<a href=\"https://colab.research.google.com/github/WeizmannMLcourse/MLCourse_2025/blob/main/Tutorial8_GNN/Molecule_regression.ipynb\" target=\"_parent\"><img src=\"https://colab.research.google.com/assets/colab-badge.svg\" alt=\"Open In Colab\"/></a>"
      ]
    },
    {
      "cell_type": "markdown",
      "metadata": {
        "id": "nAkQdZe5Y7Hu"
      },
      "source": [
        "# Molecule property regression with message-passing network"
      ]
    },
    {
      "cell_type": "markdown",
      "metadata": {
        "id": "1NTULZhjY7H5"
      },
      "source": [
        "## Colab\n",
        "\n",
        "### Install appropriate DGL and torch versions\n",
        "\n",
        "- `torch`: https://pytorch.org/get-started/previous-versions/#v240\n",
        "- `DGL`: https://www.dgl.ai/pages/start.html\n"
      ]
    },
    {
      "cell_type": "code",
      "source": [
        "! pip3 uninstall -y torch torchvision torchaudio torchdata\n",
        "! pip3 install torch==2.4.0 torchvision==0.19.0 torchaudio==2.4.0 --index-url https://download.pytorch.org/whl/cu124"
      ],
      "metadata": {
        "id": "KWKwTkDuJ9Y4"
      },
      "execution_count": null,
      "outputs": []
    },
    {
      "cell_type": "code",
      "source": [
        "! pip3 install dgl -f https://data.dgl.ai/wheels/torch-2.4/cu124/repo.html"
      ],
      "metadata": {
        "colab": {
          "base_uri": "https://localhost:8080/"
        },
        "id": "JOQ8ocnrY_ZX",
        "outputId": "99b64219-799e-4722-fe7d-7bb3493d602d"
      },
      "execution_count": null,
      "outputs": [
        {
          "output_type": "stream",
          "name": "stdout",
          "text": [
            "Looking in links: https://data.dgl.ai/wheels/torch-2.3/cu121/repo.html\n",
            "Requirement already satisfied: dgl in /usr/local/lib/python3.10/dist-packages (2.2.1+cu121)\n",
            "Requirement already satisfied: numpy>=1.14.0 in /usr/local/lib/python3.10/dist-packages (from dgl) (1.25.2)\n",
            "Requirement already satisfied: scipy>=1.1.0 in /usr/local/lib/python3.10/dist-packages (from dgl) (1.11.4)\n",
            "Requirement already satisfied: networkx>=2.1 in /usr/local/lib/python3.10/dist-packages (from dgl) (3.3)\n",
            "Requirement already satisfied: requests>=2.19.0 in /usr/local/lib/python3.10/dist-packages (from dgl) (2.31.0)\n",
            "Requirement already satisfied: tqdm in /usr/local/lib/python3.10/dist-packages (from dgl) (4.66.4)\n",
            "Requirement already satisfied: psutil>=5.8.0 in /usr/local/lib/python3.10/dist-packages (from dgl) (5.9.5)\n",
            "Requirement already satisfied: torchdata>=0.5.0 in /usr/local/lib/python3.10/dist-packages (from dgl) (0.7.1)\n",
            "Requirement already satisfied: pandas in /usr/local/lib/python3.10/dist-packages (from dgl) (2.0.3)\n",
            "Requirement already satisfied: charset-normalizer<4,>=2 in /usr/local/lib/python3.10/dist-packages (from requests>=2.19.0->dgl) (3.3.2)\n",
            "Requirement already satisfied: idna<4,>=2.5 in /usr/local/lib/python3.10/dist-packages (from requests>=2.19.0->dgl) (3.7)\n",
            "Requirement already satisfied: urllib3<3,>=1.21.1 in /usr/local/lib/python3.10/dist-packages (from requests>=2.19.0->dgl) (2.0.7)\n",
            "Requirement already satisfied: certifi>=2017.4.17 in /usr/local/lib/python3.10/dist-packages (from requests>=2.19.0->dgl) (2024.6.2)\n",
            "Requirement already satisfied: torch>=2 in /usr/local/lib/python3.10/dist-packages (from torchdata>=0.5.0->dgl) (2.3.0+cu121)\n",
            "Requirement already satisfied: python-dateutil>=2.8.2 in /usr/local/lib/python3.10/dist-packages (from pandas->dgl) (2.8.2)\n",
            "Requirement already satisfied: pytz>=2020.1 in /usr/local/lib/python3.10/dist-packages (from pandas->dgl) (2023.4)\n",
            "Requirement already satisfied: tzdata>=2022.1 in /usr/local/lib/python3.10/dist-packages (from pandas->dgl) (2024.1)\n",
            "Requirement already satisfied: six>=1.5 in /usr/local/lib/python3.10/dist-packages (from python-dateutil>=2.8.2->pandas->dgl) (1.16.0)\n",
            "Requirement already satisfied: filelock in /usr/local/lib/python3.10/dist-packages (from torch>=2->torchdata>=0.5.0->dgl) (3.14.0)\n",
            "Requirement already satisfied: typing-extensions>=4.8.0 in /usr/local/lib/python3.10/dist-packages (from torch>=2->torchdata>=0.5.0->dgl) (4.12.2)\n",
            "Requirement already satisfied: sympy in /usr/local/lib/python3.10/dist-packages (from torch>=2->torchdata>=0.5.0->dgl) (1.12.1)\n",
            "Requirement already satisfied: jinja2 in /usr/local/lib/python3.10/dist-packages (from torch>=2->torchdata>=0.5.0->dgl) (3.1.4)\n",
            "Requirement already satisfied: fsspec in /usr/local/lib/python3.10/dist-packages (from torch>=2->torchdata>=0.5.0->dgl) (2023.6.0)\n",
            "Requirement already satisfied: nvidia-cuda-nvrtc-cu12==12.1.105 in /usr/local/lib/python3.10/dist-packages (from torch>=2->torchdata>=0.5.0->dgl) (12.1.105)\n",
            "Requirement already satisfied: nvidia-cuda-runtime-cu12==12.1.105 in /usr/local/lib/python3.10/dist-packages (from torch>=2->torchdata>=0.5.0->dgl) (12.1.105)\n",
            "Requirement already satisfied: nvidia-cuda-cupti-cu12==12.1.105 in /usr/local/lib/python3.10/dist-packages (from torch>=2->torchdata>=0.5.0->dgl) (12.1.105)\n",
            "Requirement already satisfied: nvidia-cudnn-cu12==8.9.2.26 in /usr/local/lib/python3.10/dist-packages (from torch>=2->torchdata>=0.5.0->dgl) (8.9.2.26)\n",
            "Requirement already satisfied: nvidia-cublas-cu12==12.1.3.1 in /usr/local/lib/python3.10/dist-packages (from torch>=2->torchdata>=0.5.0->dgl) (12.1.3.1)\n",
            "Requirement already satisfied: nvidia-cufft-cu12==11.0.2.54 in /usr/local/lib/python3.10/dist-packages (from torch>=2->torchdata>=0.5.0->dgl) (11.0.2.54)\n",
            "Requirement already satisfied: nvidia-curand-cu12==10.3.2.106 in /usr/local/lib/python3.10/dist-packages (from torch>=2->torchdata>=0.5.0->dgl) (10.3.2.106)\n",
            "Requirement already satisfied: nvidia-cusolver-cu12==11.4.5.107 in /usr/local/lib/python3.10/dist-packages (from torch>=2->torchdata>=0.5.0->dgl) (11.4.5.107)\n",
            "Requirement already satisfied: nvidia-cusparse-cu12==12.1.0.106 in /usr/local/lib/python3.10/dist-packages (from torch>=2->torchdata>=0.5.0->dgl) (12.1.0.106)\n",
            "Requirement already satisfied: nvidia-nccl-cu12==2.20.5 in /usr/local/lib/python3.10/dist-packages (from torch>=2->torchdata>=0.5.0->dgl) (2.20.5)\n",
            "Requirement already satisfied: nvidia-nvtx-cu12==12.1.105 in /usr/local/lib/python3.10/dist-packages (from torch>=2->torchdata>=0.5.0->dgl) (12.1.105)\n",
            "Requirement already satisfied: triton==2.3.0 in /usr/local/lib/python3.10/dist-packages (from torch>=2->torchdata>=0.5.0->dgl) (2.3.0)\n",
            "Requirement already satisfied: nvidia-nvjitlink-cu12 in /usr/local/lib/python3.10/dist-packages (from nvidia-cusolver-cu12==11.4.5.107->torch>=2->torchdata>=0.5.0->dgl) (12.5.40)\n",
            "Requirement already satisfied: MarkupSafe>=2.0 in /usr/local/lib/python3.10/dist-packages (from jinja2->torch>=2->torchdata>=0.5.0->dgl) (2.1.5)\n",
            "Requirement already satisfied: mpmath<1.4.0,>=1.1.0 in /usr/local/lib/python3.10/dist-packages (from sympy->torch>=2->torchdata>=0.5.0->dgl) (1.3.0)\n"
          ]
        }
      ]
    },
    {
      "cell_type": "markdown",
      "source": [
        "### Initialize GitHub repo\n",
        "This is to get the files besides the notebook from GitHub\n",
        "\n",
        "(Thanks ChatGPT for code)\n",
        "\n",
        "\n"
      ],
      "metadata": {
        "id": "eL6VzSsoLT0e"
      }
    },
    {
      "cell_type": "code",
      "source": [
        "# Clone only the specific folder using sparse checkout\n",
        "!git config --global init.defaultBranch main\n",
        "!git init MLCourse_2025\n",
        "%cd MLCourse_2025\n",
        "!git remote add origin https://github.com/WeizmannMLcourse/MLCourse_2025.git\n",
        "!git config core.sparseCheckout true\n",
        "\n",
        "# Tell Git which folder you want to pull\n",
        "!echo \"Tutorial8_GNN/*\" >> .git/info/sparse-checkout\n",
        "\n",
        "# Pull only the specified folder\n",
        "!git pull origin main\n",
        "\n",
        "# Go inside folder\n",
        "%cd Tutorial8_GNN"
      ],
      "metadata": {
        "id": "2Jri4zLGLSsf"
      },
      "execution_count": null,
      "outputs": []
    },
    {
      "cell_type": "code",
      "execution_count": null,
      "metadata": {
        "id": "uirSQUAPY7H5"
      },
      "outputs": [],
      "source": [
        "import numpy as np\n",
        "import matplotlib.pyplot as plt\n",
        "import torch.nn as nn\n",
        "from torch.utils.data import Dataset, DataLoader\n",
        "import torch\n",
        "import dgl\n",
        "from dgl.data import QM9EdgeDataset\n",
        "from tqdm import tqdm"
      ]
    },
    {
      "cell_type": "code",
      "execution_count": null,
      "metadata": {
        "id": "_Z8BpmQNY7H6"
      },
      "outputs": [],
      "source": [
        "%load_ext autoreload\n",
        "%autoreload 2"
      ]
    },
    {
      "cell_type": "markdown",
      "metadata": {
        "id": "c78t3RczY7H6"
      },
      "source": [
        "## QM9EdgeDataset\n",
        "DGL provides a preloaded interface to this dataset of 130k molecules.\n",
        "- https://docs.dgl.ai/en/0.8.x/generated/dgl.data.QM9EdgeDataset.html\n",
        "- http://quantum-machine.org/datasets/\n",
        "\n",
        "We want to train a graph neural network to regress the magnitude of the electric dipole moment $|\\vec{\\mu}|$ of the molecule, where:\n",
        "\n",
        "$\\vec{\\mu} = \\sum_{i} q_i \\vec{x_i}$\n",
        "\n",
        "The atoms (nodes) in each molecule (graph) contain the following features:\n",
        "- `pos`: spatial coordinates (3 numbers)\n",
        "- `attr`: additional properties (11 numbers)\n",
        "\n",
        "For our task, we will restrict ourselves to _purely_ the spatial coordinates and the atomic number as input features."
      ]
    },
    {
      "cell_type": "code",
      "execution_count": null,
      "metadata": {
        "colab": {
          "base_uri": "https://localhost:8080/"
        },
        "id": "IJajvPOkY7H6",
        "outputId": "0d4d4fbb-d7b3-4b52-b40a-2077ec56bf8d"
      },
      "outputs": [
        {
          "output_type": "stream",
          "name": "stdout",
          "text": [
            "Done loading data from cached files.\n"
          ]
        }
      ],
      "source": [
        "data = QM9EdgeDataset(label_keys=['mu'])"
      ]
    },
    {
      "cell_type": "code",
      "execution_count": null,
      "metadata": {
        "colab": {
          "base_uri": "https://localhost:8080/"
        },
        "id": "HZk9KFTSY7H7",
        "outputId": "96abccbb-afe6-49b7-e0ce-b2cec8977049"
      },
      "outputs": [
        {
          "output_type": "execute_result",
          "data": {
            "text/plain": [
              "130831"
            ]
          },
          "metadata": {},
          "execution_count": 5
        }
      ],
      "source": [
        "len(data)"
      ]
    },
    {
      "cell_type": "code",
      "execution_count": null,
      "metadata": {
        "id": "JRtxCb8fY7H7"
      },
      "outputs": [],
      "source": [
        "g, labels = data.__getitem__(100000)"
      ]
    },
    {
      "cell_type": "markdown",
      "metadata": {
        "id": "lF48apwwY7H8"
      },
      "source": [
        "## Plotly visualization\n",
        "Code in `visualizer.py`"
      ]
    },
    {
      "cell_type": "code",
      "execution_count": null,
      "metadata": {
        "colab": {
          "base_uri": "https://localhost:8080/",
          "height": 838
        },
        "id": "yP5Y9h84Y7H8",
        "outputId": "5e722024-f9d3-4ce6-e679-234c8687d8bc"
      },
      "outputs": [
        {
          "output_type": "display_data",
          "data": {
            "text/html": [
              "<html>\n",
              "<head><meta charset=\"utf-8\" /></head>\n",
              "<body>\n",
              "    <div>            <script src=\"https://cdnjs.cloudflare.com/ajax/libs/mathjax/2.7.5/MathJax.js?config=TeX-AMS-MML_SVG\"></script><script type=\"text/javascript\">if (window.MathJax && window.MathJax.Hub && window.MathJax.Hub.Config) {window.MathJax.Hub.Config({SVG: {font: \"STIX-Web\"}});}</script>                <script type=\"text/javascript\">window.PlotlyConfig = {MathJaxConfig: 'local'};</script>\n",
              "        <script charset=\"utf-8\" src=\"https://cdn.plot.ly/plotly-2.24.1.min.js\"></script>                <div id=\"429f44ab-b72b-4c62-81d1-25527d1e8846\" class=\"plotly-graph-div\" style=\"height:800px; width:800px;\"></div>            <script type=\"text/javascript\">                                    window.PLOTLYENV=window.PLOTLYENV || {};                                    if (document.getElementById(\"429f44ab-b72b-4c62-81d1-25527d1e8846\")) {                    Plotly.newPlot(                        \"429f44ab-b72b-4c62-81d1-25527d1e8846\",                        [{\"hovertemplate\":\"\\u003cb\\u003e%{text}\\u003c\\u002fb\\u003e\\u003cbr\\u003e\",\"marker\":{\"color\":[\"black\",\"black\",\"blue\",\"black\",\"blue\",\"black\",\"blue\",\"black\",\"red\",\"white\",\"white\",\"white\",\"white\",\"white\",\"white\",\"white\",\"white\",\"white\"],\"line\":{\"color\":\"rgb(50,50,50)\",\"width\":2},\"size\":[30.0,30.0,35.0,30.0,35.0,30.0,35.0,30.0,40.0,5.0,5.0,5.0,5.0,5.0,5.0,5.0,5.0,5.0],\"symbol\":\"circle\"},\"mode\":\"markers\",\"name\":\"atom\",\"text\":[\"C\",\"C\",\"N\",\"C\",\"N\",\"C\",\"N\",\"C\",\"O\",\"H\",\"H\",\"H\",\"H\",\"H\",\"H\",\"H\",\"H\",\"H\"],\"x\":[0.9480000138282776,-0.05490000173449516,-1.4190000295639038,-2.4386000633239746,-3.6668999195098877,-1.7129000425338745,-0.9021000266075134,-2.9405999183654785,-3.424099922180176,1.941499948501587,0.6646000146865845,1.0111000537872314,-0.09969999641180038,0.2475000023841858,-2.063800096511841,-4.275700092315674,-1.2879999876022339,-3.276900053024292],\"y\":[0.426800012588501,-0.6075999736785889,-0.36980000138282776,-0.12290000170469284,-0.2563999891281128,-0.7006999850273132,-1.402999997138977,-0.0632999986410141,-0.5303999781608582,0.20970000326633453,1.4375,0.3970000147819519,-0.5949000120162964,-1.611299991607666,0.18930000066757202,0.024900000542402267,-1.5018999576568604,0.8920000195503235],\"z\":[0.07339999824762344,-0.4350999891757965,0.059700001031160355,-0.8377000093460083,-0.5288000106811523,1.3875000476837158,2.0738000869750977,2.0248000621795654,3.0239999294281006,-0.3303000032901764,-0.23639999330043793,1.1632000207901,-1.527400016784668,-0.12520000338554382,-1.8178000450134277,-1.2926000356674194,3.0157999992370605,1.5913000106811523],\"type\":\"scatter3d\"},{\"hoverinfo\":\"none\",\"line\":{\"color\":\"rgb(125,125,125,0.6)\",\"width\":3},\"mode\":\"lines\",\"x\":[0.9480000138282776,-0.05490000173449516,null,0.9480000138282776,1.941499948501587,null,0.9480000138282776,0.6646000146865845,null,0.9480000138282776,1.0111000537872314,null,-0.05490000173449516,0.9480000138282776,null,-0.05490000173449516,-1.4190000295639038,null,-0.05490000173449516,-0.09969999641180038,null,-0.05490000173449516,0.2475000023841858,null,-1.4190000295639038,-0.05490000173449516,null,-1.4190000295639038,-2.4386000633239746,null,-1.4190000295639038,-1.7129000425338745,null,-2.4386000633239746,-1.4190000295639038,null,-2.4386000633239746,-3.6668999195098877,null,-2.4386000633239746,-2.063800096511841,null,-3.6668999195098877,-2.4386000633239746,null,-3.6668999195098877,-4.275700092315674,null,-1.7129000425338745,-1.4190000295639038,null,-1.7129000425338745,-0.9021000266075134,null,-1.7129000425338745,-2.9405999183654785,null,-0.9021000266075134,-1.7129000425338745,null,-0.9021000266075134,-1.2879999876022339,null,-2.9405999183654785,-1.7129000425338745,null,-2.9405999183654785,-3.424099922180176,null,-2.9405999183654785,-3.276900053024292,null,-3.424099922180176,-2.9405999183654785,null,1.941499948501587,0.9480000138282776,null,0.6646000146865845,0.9480000138282776,null,1.0111000537872314,0.9480000138282776,null,-0.09969999641180038,-0.05490000173449516,null,0.2475000023841858,-0.05490000173449516,null,-2.063800096511841,-2.4386000633239746,null,-4.275700092315674,-3.6668999195098877,null,-1.2879999876022339,-0.9021000266075134,null,-3.276900053024292,-2.9405999183654785,null],\"y\":[0.426800012588501,-0.6075999736785889,null,0.426800012588501,0.20970000326633453,null,0.426800012588501,1.4375,null,0.426800012588501,0.3970000147819519,null,-0.6075999736785889,0.426800012588501,null,-0.6075999736785889,-0.36980000138282776,null,-0.6075999736785889,-0.5949000120162964,null,-0.6075999736785889,-1.611299991607666,null,-0.36980000138282776,-0.6075999736785889,null,-0.36980000138282776,-0.12290000170469284,null,-0.36980000138282776,-0.7006999850273132,null,-0.12290000170469284,-0.36980000138282776,null,-0.12290000170469284,-0.2563999891281128,null,-0.12290000170469284,0.18930000066757202,null,-0.2563999891281128,-0.12290000170469284,null,-0.2563999891281128,0.024900000542402267,null,-0.7006999850273132,-0.36980000138282776,null,-0.7006999850273132,-1.402999997138977,null,-0.7006999850273132,-0.0632999986410141,null,-1.402999997138977,-0.7006999850273132,null,-1.402999997138977,-1.5018999576568604,null,-0.0632999986410141,-0.7006999850273132,null,-0.0632999986410141,-0.5303999781608582,null,-0.0632999986410141,0.8920000195503235,null,-0.5303999781608582,-0.0632999986410141,null,0.20970000326633453,0.426800012588501,null,1.4375,0.426800012588501,null,0.3970000147819519,0.426800012588501,null,-0.5949000120162964,-0.6075999736785889,null,-1.611299991607666,-0.6075999736785889,null,0.18930000066757202,-0.12290000170469284,null,0.024900000542402267,-0.2563999891281128,null,-1.5018999576568604,-1.402999997138977,null,0.8920000195503235,-0.0632999986410141,null],\"z\":[0.07339999824762344,-0.4350999891757965,null,0.07339999824762344,-0.3303000032901764,null,0.07339999824762344,-0.23639999330043793,null,0.07339999824762344,1.1632000207901,null,-0.4350999891757965,0.07339999824762344,null,-0.4350999891757965,0.059700001031160355,null,-0.4350999891757965,-1.527400016784668,null,-0.4350999891757965,-0.12520000338554382,null,0.059700001031160355,-0.4350999891757965,null,0.059700001031160355,-0.8377000093460083,null,0.059700001031160355,1.3875000476837158,null,-0.8377000093460083,0.059700001031160355,null,-0.8377000093460083,-0.5288000106811523,null,-0.8377000093460083,-1.8178000450134277,null,-0.5288000106811523,-0.8377000093460083,null,-0.5288000106811523,-1.2926000356674194,null,1.3875000476837158,0.059700001031160355,null,1.3875000476837158,2.0738000869750977,null,1.3875000476837158,2.0248000621795654,null,2.0738000869750977,1.3875000476837158,null,2.0738000869750977,3.0157999992370605,null,2.0248000621795654,1.3875000476837158,null,2.0248000621795654,3.0239999294281006,null,2.0248000621795654,1.5913000106811523,null,3.0239999294281006,2.0248000621795654,null,-0.3303000032901764,0.07339999824762344,null,-0.23639999330043793,0.07339999824762344,null,1.1632000207901,0.07339999824762344,null,-1.527400016784668,-0.4350999891757965,null,-0.12520000338554382,-0.4350999891757965,null,-1.8178000450134277,-0.8377000093460083,null,-1.2926000356674194,-0.5288000106811523,null,3.0157999992370605,2.0738000869750977,null,1.5913000106811523,2.0248000621795654,null],\"type\":\"scatter3d\"}],                        {\"height\":800,\"hovermode\":\"closest\",\"legend\":{\"font\":{\"size\":10},\"orientation\":\"h\"},\"margin\":{\"t\":100},\"scene\":{\"aspectratio\":{\"x\":1,\"y\":1,\"z\":1},\"xaxis\":{\"range\":[-5,5],\"showbackground\":false,\"showgrid\":true,\"showline\":true,\"showticklabels\":true,\"visible\":true,\"zeroline\":false},\"yaxis\":{\"range\":[-5,5],\"showbackground\":false,\"showgrid\":true,\"showline\":true,\"showticklabels\":true,\"visible\":true,\"zeroline\":false},\"zaxis\":{\"range\":[-5,5],\"showbackground\":false,\"showgrid\":true,\"showline\":true,\"showticklabels\":true,\"visible\":true,\"zeroline\":false}},\"showlegend\":false,\"template\":{\"data\":{\"barpolar\":[{\"marker\":{\"line\":{\"color\":\"#E5ECF6\",\"width\":0.5},\"pattern\":{\"fillmode\":\"overlay\",\"size\":10,\"solidity\":0.2}},\"type\":\"barpolar\"}],\"bar\":[{\"error_x\":{\"color\":\"#2a3f5f\"},\"error_y\":{\"color\":\"#2a3f5f\"},\"marker\":{\"line\":{\"color\":\"#E5ECF6\",\"width\":0.5},\"pattern\":{\"fillmode\":\"overlay\",\"size\":10,\"solidity\":0.2}},\"type\":\"bar\"}],\"carpet\":[{\"aaxis\":{\"endlinecolor\":\"#2a3f5f\",\"gridcolor\":\"white\",\"linecolor\":\"white\",\"minorgridcolor\":\"white\",\"startlinecolor\":\"#2a3f5f\"},\"baxis\":{\"endlinecolor\":\"#2a3f5f\",\"gridcolor\":\"white\",\"linecolor\":\"white\",\"minorgridcolor\":\"white\",\"startlinecolor\":\"#2a3f5f\"},\"type\":\"carpet\"}],\"choropleth\":[{\"colorbar\":{\"outlinewidth\":0,\"ticks\":\"\"},\"type\":\"choropleth\"}],\"contourcarpet\":[{\"colorbar\":{\"outlinewidth\":0,\"ticks\":\"\"},\"type\":\"contourcarpet\"}],\"contour\":[{\"colorbar\":{\"outlinewidth\":0,\"ticks\":\"\"},\"colorscale\":[[0.0,\"#0d0887\"],[0.1111111111111111,\"#46039f\"],[0.2222222222222222,\"#7201a8\"],[0.3333333333333333,\"#9c179e\"],[0.4444444444444444,\"#bd3786\"],[0.5555555555555556,\"#d8576b\"],[0.6666666666666666,\"#ed7953\"],[0.7777777777777778,\"#fb9f3a\"],[0.8888888888888888,\"#fdca26\"],[1.0,\"#f0f921\"]],\"type\":\"contour\"}],\"heatmapgl\":[{\"colorbar\":{\"outlinewidth\":0,\"ticks\":\"\"},\"colorscale\":[[0.0,\"#0d0887\"],[0.1111111111111111,\"#46039f\"],[0.2222222222222222,\"#7201a8\"],[0.3333333333333333,\"#9c179e\"],[0.4444444444444444,\"#bd3786\"],[0.5555555555555556,\"#d8576b\"],[0.6666666666666666,\"#ed7953\"],[0.7777777777777778,\"#fb9f3a\"],[0.8888888888888888,\"#fdca26\"],[1.0,\"#f0f921\"]],\"type\":\"heatmapgl\"}],\"heatmap\":[{\"colorbar\":{\"outlinewidth\":0,\"ticks\":\"\"},\"colorscale\":[[0.0,\"#0d0887\"],[0.1111111111111111,\"#46039f\"],[0.2222222222222222,\"#7201a8\"],[0.3333333333333333,\"#9c179e\"],[0.4444444444444444,\"#bd3786\"],[0.5555555555555556,\"#d8576b\"],[0.6666666666666666,\"#ed7953\"],[0.7777777777777778,\"#fb9f3a\"],[0.8888888888888888,\"#fdca26\"],[1.0,\"#f0f921\"]],\"type\":\"heatmap\"}],\"histogram2dcontour\":[{\"colorbar\":{\"outlinewidth\":0,\"ticks\":\"\"},\"colorscale\":[[0.0,\"#0d0887\"],[0.1111111111111111,\"#46039f\"],[0.2222222222222222,\"#7201a8\"],[0.3333333333333333,\"#9c179e\"],[0.4444444444444444,\"#bd3786\"],[0.5555555555555556,\"#d8576b\"],[0.6666666666666666,\"#ed7953\"],[0.7777777777777778,\"#fb9f3a\"],[0.8888888888888888,\"#fdca26\"],[1.0,\"#f0f921\"]],\"type\":\"histogram2dcontour\"}],\"histogram2d\":[{\"colorbar\":{\"outlinewidth\":0,\"ticks\":\"\"},\"colorscale\":[[0.0,\"#0d0887\"],[0.1111111111111111,\"#46039f\"],[0.2222222222222222,\"#7201a8\"],[0.3333333333333333,\"#9c179e\"],[0.4444444444444444,\"#bd3786\"],[0.5555555555555556,\"#d8576b\"],[0.6666666666666666,\"#ed7953\"],[0.7777777777777778,\"#fb9f3a\"],[0.8888888888888888,\"#fdca26\"],[1.0,\"#f0f921\"]],\"type\":\"histogram2d\"}],\"histogram\":[{\"marker\":{\"pattern\":{\"fillmode\":\"overlay\",\"size\":10,\"solidity\":0.2}},\"type\":\"histogram\"}],\"mesh3d\":[{\"colorbar\":{\"outlinewidth\":0,\"ticks\":\"\"},\"type\":\"mesh3d\"}],\"parcoords\":[{\"line\":{\"colorbar\":{\"outlinewidth\":0,\"ticks\":\"\"}},\"type\":\"parcoords\"}],\"pie\":[{\"automargin\":true,\"type\":\"pie\"}],\"scatter3d\":[{\"line\":{\"colorbar\":{\"outlinewidth\":0,\"ticks\":\"\"}},\"marker\":{\"colorbar\":{\"outlinewidth\":0,\"ticks\":\"\"}},\"type\":\"scatter3d\"}],\"scattercarpet\":[{\"marker\":{\"colorbar\":{\"outlinewidth\":0,\"ticks\":\"\"}},\"type\":\"scattercarpet\"}],\"scattergeo\":[{\"marker\":{\"colorbar\":{\"outlinewidth\":0,\"ticks\":\"\"}},\"type\":\"scattergeo\"}],\"scattergl\":[{\"marker\":{\"colorbar\":{\"outlinewidth\":0,\"ticks\":\"\"}},\"type\":\"scattergl\"}],\"scattermapbox\":[{\"marker\":{\"colorbar\":{\"outlinewidth\":0,\"ticks\":\"\"}},\"type\":\"scattermapbox\"}],\"scatterpolargl\":[{\"marker\":{\"colorbar\":{\"outlinewidth\":0,\"ticks\":\"\"}},\"type\":\"scatterpolargl\"}],\"scatterpolar\":[{\"marker\":{\"colorbar\":{\"outlinewidth\":0,\"ticks\":\"\"}},\"type\":\"scatterpolar\"}],\"scatter\":[{\"fillpattern\":{\"fillmode\":\"overlay\",\"size\":10,\"solidity\":0.2},\"type\":\"scatter\"}],\"scatterternary\":[{\"marker\":{\"colorbar\":{\"outlinewidth\":0,\"ticks\":\"\"}},\"type\":\"scatterternary\"}],\"surface\":[{\"colorbar\":{\"outlinewidth\":0,\"ticks\":\"\"},\"colorscale\":[[0.0,\"#0d0887\"],[0.1111111111111111,\"#46039f\"],[0.2222222222222222,\"#7201a8\"],[0.3333333333333333,\"#9c179e\"],[0.4444444444444444,\"#bd3786\"],[0.5555555555555556,\"#d8576b\"],[0.6666666666666666,\"#ed7953\"],[0.7777777777777778,\"#fb9f3a\"],[0.8888888888888888,\"#fdca26\"],[1.0,\"#f0f921\"]],\"type\":\"surface\"}],\"table\":[{\"cells\":{\"fill\":{\"color\":\"#EBF0F8\"},\"line\":{\"color\":\"white\"}},\"header\":{\"fill\":{\"color\":\"#C8D4E3\"},\"line\":{\"color\":\"white\"}},\"type\":\"table\"}]},\"layout\":{\"annotationdefaults\":{\"arrowcolor\":\"#2a3f5f\",\"arrowhead\":0,\"arrowwidth\":1},\"autotypenumbers\":\"strict\",\"coloraxis\":{\"colorbar\":{\"outlinewidth\":0,\"ticks\":\"\"}},\"colorscale\":{\"diverging\":[[0,\"#8e0152\"],[0.1,\"#c51b7d\"],[0.2,\"#de77ae\"],[0.3,\"#f1b6da\"],[0.4,\"#fde0ef\"],[0.5,\"#f7f7f7\"],[0.6,\"#e6f5d0\"],[0.7,\"#b8e186\"],[0.8,\"#7fbc41\"],[0.9,\"#4d9221\"],[1,\"#276419\"]],\"sequential\":[[0.0,\"#0d0887\"],[0.1111111111111111,\"#46039f\"],[0.2222222222222222,\"#7201a8\"],[0.3333333333333333,\"#9c179e\"],[0.4444444444444444,\"#bd3786\"],[0.5555555555555556,\"#d8576b\"],[0.6666666666666666,\"#ed7953\"],[0.7777777777777778,\"#fb9f3a\"],[0.8888888888888888,\"#fdca26\"],[1.0,\"#f0f921\"]],\"sequentialminus\":[[0.0,\"#0d0887\"],[0.1111111111111111,\"#46039f\"],[0.2222222222222222,\"#7201a8\"],[0.3333333333333333,\"#9c179e\"],[0.4444444444444444,\"#bd3786\"],[0.5555555555555556,\"#d8576b\"],[0.6666666666666666,\"#ed7953\"],[0.7777777777777778,\"#fb9f3a\"],[0.8888888888888888,\"#fdca26\"],[1.0,\"#f0f921\"]]},\"colorway\":[\"#636efa\",\"#EF553B\",\"#00cc96\",\"#ab63fa\",\"#FFA15A\",\"#19d3f3\",\"#FF6692\",\"#B6E880\",\"#FF97FF\",\"#FECB52\"],\"font\":{\"color\":\"#2a3f5f\"},\"geo\":{\"bgcolor\":\"white\",\"lakecolor\":\"white\",\"landcolor\":\"#E5ECF6\",\"showlakes\":true,\"showland\":true,\"subunitcolor\":\"white\"},\"hoverlabel\":{\"align\":\"left\"},\"hovermode\":\"closest\",\"mapbox\":{\"style\":\"light\"},\"paper_bgcolor\":\"white\",\"plot_bgcolor\":\"#E5ECF6\",\"polar\":{\"angularaxis\":{\"gridcolor\":\"white\",\"linecolor\":\"white\",\"ticks\":\"\"},\"bgcolor\":\"#E5ECF6\",\"radialaxis\":{\"gridcolor\":\"white\",\"linecolor\":\"white\",\"ticks\":\"\"}},\"scene\":{\"xaxis\":{\"backgroundcolor\":\"#E5ECF6\",\"gridcolor\":\"white\",\"gridwidth\":2,\"linecolor\":\"white\",\"showbackground\":true,\"ticks\":\"\",\"zerolinecolor\":\"white\"},\"yaxis\":{\"backgroundcolor\":\"#E5ECF6\",\"gridcolor\":\"white\",\"gridwidth\":2,\"linecolor\":\"white\",\"showbackground\":true,\"ticks\":\"\",\"zerolinecolor\":\"white\"},\"zaxis\":{\"backgroundcolor\":\"#E5ECF6\",\"gridcolor\":\"white\",\"gridwidth\":2,\"linecolor\":\"white\",\"showbackground\":true,\"ticks\":\"\",\"zerolinecolor\":\"white\"}},\"shapedefaults\":{\"line\":{\"color\":\"#2a3f5f\"}},\"ternary\":{\"aaxis\":{\"gridcolor\":\"white\",\"linecolor\":\"white\",\"ticks\":\"\"},\"baxis\":{\"gridcolor\":\"white\",\"linecolor\":\"white\",\"ticks\":\"\"},\"bgcolor\":\"#E5ECF6\",\"caxis\":{\"gridcolor\":\"white\",\"linecolor\":\"white\",\"ticks\":\"\"}},\"title\":{\"x\":0.05},\"xaxis\":{\"automargin\":true,\"gridcolor\":\"white\",\"linecolor\":\"white\",\"ticks\":\"\",\"title\":{\"standoff\":15},\"zerolinecolor\":\"white\",\"zerolinewidth\":2},\"yaxis\":{\"automargin\":true,\"gridcolor\":\"white\",\"linecolor\":\"white\",\"ticks\":\"\",\"title\":{\"standoff\":15},\"zerolinecolor\":\"white\",\"zerolinewidth\":2}}},\"width\":800},                        {\"responsive\": true}                    ).then(function(){\n",
              "                            \n",
              "var gd = document.getElementById('429f44ab-b72b-4c62-81d1-25527d1e8846');\n",
              "var x = new MutationObserver(function (mutations, observer) {{\n",
              "        var display = window.getComputedStyle(gd).display;\n",
              "        if (!display || display === 'none') {{\n",
              "            console.log([gd, 'removed!']);\n",
              "            Plotly.purge(gd);\n",
              "            observer.disconnect();\n",
              "        }}\n",
              "}});\n",
              "\n",
              "// Listen for the removal of the full notebook cells\n",
              "var notebookContainer = gd.closest('#notebook-container');\n",
              "if (notebookContainer) {{\n",
              "    x.observe(notebookContainer, {childList: true});\n",
              "}}\n",
              "\n",
              "// Listen for the clearing of the current output cell\n",
              "var outputEl = gd.closest('.output');\n",
              "if (outputEl) {{\n",
              "    x.observe(outputEl, {childList: true});\n",
              "}}\n",
              "\n",
              "                        })                };                            </script>        </div>\n",
              "</body>\n",
              "</html>"
            ]
          },
          "metadata": {}
        }
      ],
      "source": [
        "from visualizer import draw_plotly\n",
        "draw_plotly(g)"
      ]
    },
    {
      "cell_type": "markdown",
      "metadata": {
        "id": "EhlZRiXOY7H8"
      },
      "source": [
        "## Message-passing model\n",
        "This simple graph neural network consists of three main network components:\n",
        "1) Node feature encoding\n",
        "2) Message passing blocks\n",
        "3) Graph-level prediction"
      ]
    },
    {
      "cell_type": "markdown",
      "metadata": {
        "id": "ESciZh7lY7H9"
      },
      "source": [
        "<img src=\"https://github.com/WeizmannMLcourse/MLCourse_2024/blob/main/Tutorial10_graphs_with_DGL/model.jpeg?raw=1\">"
      ]
    },
    {
      "cell_type": "code",
      "execution_count": null,
      "metadata": {
        "id": "r0bbgaRRY7H9"
      },
      "outputs": [],
      "source": [
        "from model import MoleculeMPNN"
      ]
    },
    {
      "cell_type": "code",
      "execution_count": null,
      "metadata": {
        "id": "3Q5iE6BdY7H9"
      },
      "outputs": [],
      "source": [
        "net = MoleculeMPNN()"
      ]
    },
    {
      "cell_type": "code",
      "execution_count": null,
      "metadata": {
        "colab": {
          "base_uri": "https://localhost:8080/"
        },
        "id": "nNbypqXtY7H9",
        "outputId": "da6fbd07-4a00-4cdb-8049-8c769485a65f"
      },
      "outputs": [
        {
          "output_type": "execute_result",
          "data": {
            "text/plain": [
              "371713"
            ]
          },
          "metadata": {},
          "execution_count": 10
        }
      ],
      "source": [
        "### number of parameters ###\n",
        "sum(p.numel() for p in net.parameters())"
      ]
    },
    {
      "cell_type": "code",
      "execution_count": 47,
      "metadata": {
        "id": "jFphnjqnY7H9"
      },
      "outputs": [],
      "source": [
        "### Modified from https://docs.dgl.ai/en/0.2.x/tutorials/basics/4_batch.html ###\n",
        "def collate(samples):\n",
        "    '''\n",
        "    This function takes a list (samples) of pairs from the dataset:\n",
        "        [ (graph1, label1), (graph2, label2), ...]\n",
        "    Then, in the following line we do two things at once:\n",
        "        1) zip all of the pairs into two tuples:\n",
        "            ( (graph1, graph2, ...), (label1, label2, ...) )\n",
        "        2) convert both tuples to lists using map\n",
        "    '''\n",
        "    graphs, labels = map(list, zip(*samples))\n",
        "    ### Combine all graphs into one big graph (bookkeeping by DGL)\n",
        "    batched_graph = dgl.batch(graphs)\n",
        "    ### Combine all labels into one big tensor\n",
        "    labels = torch.row_stack(labels)\n",
        "    return batched_graph, labels"
      ]
    },
    {
      "cell_type": "markdown",
      "metadata": {
        "id": "EI5LQECOY7H9"
      },
      "source": [
        "### Train-val-test splits"
      ]
    },
    {
      "cell_type": "code",
      "execution_count": null,
      "metadata": {
        "id": "9VVvm6v0Y7H9"
      },
      "outputs": [],
      "source": [
        "train_dataset = torch.utils.data.Subset(data,range(100000))\n",
        "valid_dataset = torch.utils.data.Subset(data,range(100000,105000))\n",
        "test_dataset = torch.utils.data.Subset(data,range(110000,len(data)-1))\n",
        "\n",
        "train_dataloader = DataLoader(train_dataset, batch_size=200, shuffle=True, collate_fn=collate, num_workers=2)\n",
        "valid_dataloader = DataLoader(valid_dataset, batch_size=200, collate_fn=collate, num_workers=2)\n",
        "test_dataloader  = DataLoader(test_dataset,  batch_size=1, collate_fn=collate, num_workers=0)"
      ]
    },
    {
      "cell_type": "code",
      "execution_count": null,
      "metadata": {
        "colab": {
          "base_uri": "https://localhost:8080/"
        },
        "id": "cqif1XIoY7H9",
        "outputId": "09660e10-01ac-48a0-9e21-f3b07dfe0ac2"
      },
      "outputs": [
        {
          "output_type": "execute_result",
          "data": {
            "text/plain": [
              "tensor([[-0.0320]], grad_fn=<AddmmBackward0>)"
            ]
          },
          "metadata": {},
          "execution_count": 13
        }
      ],
      "source": [
        "net(g)"
      ]
    },
    {
      "cell_type": "markdown",
      "metadata": {
        "id": "GNT3WNjPY7H9"
      },
      "source": [
        "## Training"
      ]
    },
    {
      "cell_type": "code",
      "execution_count": 16,
      "metadata": {
        "colab": {
          "base_uri": "https://localhost:8080/"
        },
        "id": "_x_AJZgkY7H9",
        "outputId": "ce3b54e5-7b0e-4398-878b-fe127076c5c4"
      },
      "outputs": [
        {
          "metadata": {
            "tags": null
          },
          "name": "stdout",
          "output_type": "stream",
          "text": [
            "Found GPU!\n"
          ]
        },
        {
          "metadata": {
            "tags": null
          },
          "name": "stderr",
          "output_type": "stream",
          "text": [
            "  2%|▏         | 1/60 [00:36<36:21, 36.97s/it]"
          ]
        },
        {
          "metadata": {
            "tags": null
          },
          "name": "stdout",
          "output_type": "stream",
          "text": [
            "Epoch:  0  Train loss:  4.0644897365570065  Valid loss:  2.2584403355916343\n"
          ]
        },
        {
          "metadata": {
            "tags": null
          },
          "name": "stderr",
          "output_type": "stream",
          "text": [
            "\r  3%|▎         | 2/60 [01:14<35:57, 37.20s/it]"
          ]
        },
        {
          "metadata": {
            "tags": null
          },
          "name": "stdout",
          "output_type": "stream",
          "text": [
            "Epoch:  1  Train loss:  2.767673544883728  Valid loss:  2.2406147718429565\n"
          ]
        },
        {
          "metadata": {
            "tags": null
          },
          "name": "stderr",
          "output_type": "stream",
          "text": [
            "\r  5%|▌         | 3/60 [01:50<34:55, 36.76s/it]"
          ]
        },
        {
          "metadata": {
            "tags": null
          },
          "name": "stdout",
          "output_type": "stream",
          "text": [
            "Epoch:  2  Train loss:  2.1274080991744997  Valid loss:  1.4696317911148071\n"
          ]
        },
        {
          "metadata": {
            "tags": null
          },
          "name": "stderr",
          "output_type": "stream",
          "text": [
            "\r  7%|▋         | 4/60 [02:27<34:22, 36.83s/it]"
          ]
        },
        {
          "metadata": {
            "tags": null
          },
          "name": "stdout",
          "output_type": "stream",
          "text": [
            "Epoch:  3  Train loss:  1.8999359178543092  Valid loss:  1.2614209453264873\n"
          ]
        },
        {
          "metadata": {
            "tags": null
          },
          "name": "stderr",
          "output_type": "stream",
          "text": [
            "\r  8%|▊         | 5/60 [03:03<33:24, 36.45s/it]"
          ]
        },
        {
          "metadata": {
            "tags": null
          },
          "name": "stdout",
          "output_type": "stream",
          "text": [
            "Epoch:  4  Train loss:  1.513356397151947  Valid loss:  1.153530478477478\n"
          ]
        },
        {
          "metadata": {
            "tags": null
          },
          "name": "stderr",
          "output_type": "stream",
          "text": [
            "\r 10%|█         | 6/60 [03:38<32:32, 36.17s/it]"
          ]
        },
        {
          "metadata": {
            "tags": null
          },
          "name": "stdout",
          "output_type": "stream",
          "text": [
            "Epoch:  5  Train loss:  1.456541769504547  Valid loss:  1.1351314981778462\n"
          ]
        },
        {
          "metadata": {
            "tags": null
          },
          "name": "stderr",
          "output_type": "stream",
          "text": [
            "\r 12%|█▏        | 7/60 [04:16<32:19, 36.60s/it]"
          ]
        },
        {
          "metadata": {
            "tags": null
          },
          "name": "stdout",
          "output_type": "stream",
          "text": [
            "Epoch:  6  Train loss:  1.4027103281021118  Valid loss:  1.0964643557866414\n"
          ]
        },
        {
          "metadata": {
            "tags": null
          },
          "name": "stderr",
          "output_type": "stream",
          "text": [
            "\r 13%|█▎        | 8/60 [04:53<31:57, 36.87s/it]"
          ]
        },
        {
          "metadata": {
            "tags": null
          },
          "name": "stdout",
          "output_type": "stream",
          "text": [
            "Epoch:  7  Train loss:  1.3453425145149231  Valid loss:  1.0564716458320618\n"
          ]
        },
        {
          "metadata": {
            "tags": null
          },
          "name": "stderr",
          "output_type": "stream",
          "text": [
            "\r 15%|█▌        | 9/60 [05:31<31:29, 37.05s/it]"
          ]
        },
        {
          "metadata": {
            "tags": null
          },
          "name": "stdout",
          "output_type": "stream",
          "text": [
            "Epoch:  8  Train loss:  1.2481041312217713  Valid loss:  1.0892712275187175\n"
          ]
        },
        {
          "metadata": {
            "tags": null
          },
          "name": "stderr",
          "output_type": "stream",
          "text": [
            "\r 17%|█▋        | 10/60 [06:07<30:39, 36.80s/it]"
          ]
        },
        {
          "metadata": {
            "tags": null
          },
          "name": "stdout",
          "output_type": "stream",
          "text": [
            "Epoch:  9  Train loss:  1.2226234197616577  Valid loss:  1.0039613644282024\n"
          ]
        },
        {
          "metadata": {
            "tags": null
          },
          "name": "stderr",
          "output_type": "stream",
          "text": [
            "\r 18%|█▊        | 11/60 [06:43<29:46, 36.45s/it]"
          ]
        },
        {
          "metadata": {
            "tags": null
          },
          "name": "stdout",
          "output_type": "stream",
          "text": [
            "Epoch:  10  Train loss:  1.1919730186462403  Valid loss:  1.0532370209693909\n"
          ]
        },
        {
          "metadata": {
            "tags": null
          },
          "name": "stderr",
          "output_type": "stream",
          "text": [
            "\r 20%|██        | 12/60 [07:19<29:01, 36.27s/it]"
          ]
        },
        {
          "metadata": {
            "tags": null
          },
          "name": "stdout",
          "output_type": "stream",
          "text": [
            "Epoch:  11  Train loss:  1.1994541454315186  Valid loss:  1.0411369403203328\n"
          ]
        },
        {
          "metadata": {
            "tags": null
          },
          "name": "stderr",
          "output_type": "stream",
          "text": [
            "\r 22%|██▏       | 13/60 [07:55<28:21, 36.20s/it]"
          ]
        },
        {
          "metadata": {
            "tags": null
          },
          "name": "stdout",
          "output_type": "stream",
          "text": [
            "Epoch:  12  Train loss:  1.196097855567932  Valid loss:  1.1316949129104614\n"
          ]
        },
        {
          "metadata": {
            "tags": null
          },
          "name": "stderr",
          "output_type": "stream",
          "text": [
            "\r 23%|██▎       | 14/60 [08:31<27:52, 36.35s/it]"
          ]
        },
        {
          "metadata": {
            "tags": null
          },
          "name": "stdout",
          "output_type": "stream",
          "text": [
            "Epoch:  13  Train loss:  1.1612345576286316  Valid loss:  0.9749376773834229\n"
          ]
        },
        {
          "metadata": {
            "tags": null
          },
          "name": "stderr",
          "output_type": "stream",
          "text": [
            "\r 25%|██▌       | 15/60 [09:09<27:33, 36.75s/it]"
          ]
        },
        {
          "metadata": {
            "tags": null
          },
          "name": "stdout",
          "output_type": "stream",
          "text": [
            "Epoch:  14  Train loss:  1.12767321228981  Valid loss:  1.0221620400746663\n"
          ]
        },
        {
          "metadata": {
            "tags": null
          },
          "name": "stderr",
          "output_type": "stream",
          "text": [
            "\r 27%|██▋       | 16/60 [09:46<27:00, 36.82s/it]"
          ]
        },
        {
          "metadata": {
            "tags": null
          },
          "name": "stdout",
          "output_type": "stream",
          "text": [
            "Epoch:  15  Train loss:  1.156609869003296  Valid loss:  0.9248039722442627\n"
          ]
        },
        {
          "metadata": {
            "tags": null
          },
          "name": "stderr",
          "output_type": "stream",
          "text": [
            "\r 28%|██▊       | 17/60 [10:22<26:13, 36.59s/it]"
          ]
        },
        {
          "metadata": {
            "tags": null
          },
          "name": "stdout",
          "output_type": "stream",
          "text": [
            "Epoch:  16  Train loss:  1.1562140154838563  Valid loss:  0.9184364080429077\n"
          ]
        },
        {
          "metadata": {
            "tags": null
          },
          "name": "stderr",
          "output_type": "stream",
          "text": [
            "\r 30%|███       | 18/60 [10:58<25:32, 36.48s/it]"
          ]
        },
        {
          "metadata": {
            "tags": null
          },
          "name": "stdout",
          "output_type": "stream",
          "text": [
            "Epoch:  17  Train loss:  1.0771367120742799  Valid loss:  0.92300017674764\n"
          ]
        },
        {
          "metadata": {
            "tags": null
          },
          "name": "stderr",
          "output_type": "stream",
          "text": [
            "\r 32%|███▏      | 19/60 [11:35<24:55, 36.48s/it]"
          ]
        },
        {
          "metadata": {
            "tags": null
          },
          "name": "stdout",
          "output_type": "stream",
          "text": [
            "Epoch:  18  Train loss:  1.080990616083145  Valid loss:  0.874973992506663\n"
          ]
        },
        {
          "metadata": {
            "tags": null
          },
          "name": "stderr",
          "output_type": "stream",
          "text": [
            "\r 33%|███▎      | 20/60 [12:11<24:17, 36.45s/it]"
          ]
        },
        {
          "metadata": {
            "tags": null
          },
          "name": "stdout",
          "output_type": "stream",
          "text": [
            "Epoch:  19  Train loss:  1.0479242157936097  Valid loss:  0.9078420797983805\n"
          ]
        },
        {
          "metadata": {
            "tags": null
          },
          "name": "stderr",
          "output_type": "stream",
          "text": [
            "\r 35%|███▌      | 21/60 [12:47<23:39, 36.41s/it]"
          ]
        },
        {
          "metadata": {
            "tags": null
          },
          "name": "stdout",
          "output_type": "stream",
          "text": [
            "Epoch:  20  Train loss:  1.0340327858924865  Valid loss:  0.8888319929440817\n"
          ]
        },
        {
          "metadata": {
            "tags": null
          },
          "name": "stderr",
          "output_type": "stream",
          "text": [
            "\r 37%|███▋      | 22/60 [13:23<22:57, 36.25s/it]"
          ]
        },
        {
          "metadata": {
            "tags": null
          },
          "name": "stdout",
          "output_type": "stream",
          "text": [
            "Epoch:  21  Train loss:  1.0749562215805053  Valid loss:  0.9333874980608622\n"
          ]
        },
        {
          "metadata": {
            "tags": null
          },
          "name": "stderr",
          "output_type": "stream",
          "text": [
            "\r 38%|███▊      | 23/60 [14:00<22:28, 36.45s/it]"
          ]
        },
        {
          "metadata": {
            "tags": null
          },
          "name": "stdout",
          "output_type": "stream",
          "text": [
            "Epoch:  22  Train loss:  1.0182220804691315  Valid loss:  1.0953330000241597\n"
          ]
        },
        {
          "metadata": {
            "tags": null
          },
          "name": "stderr",
          "output_type": "stream",
          "text": [
            "\r 40%|████      | 24/60 [14:36<21:48, 36.34s/it]"
          ]
        },
        {
          "metadata": {
            "tags": null
          },
          "name": "stdout",
          "output_type": "stream",
          "text": [
            "Epoch:  23  Train loss:  1.1419435083866118  Valid loss:  0.935887614885966\n"
          ]
        },
        {
          "metadata": {
            "tags": null
          },
          "name": "stderr",
          "output_type": "stream",
          "text": [
            "\r 42%|████▏     | 25/60 [15:12<21:09, 36.28s/it]"
          ]
        },
        {
          "metadata": {
            "tags": null
          },
          "name": "stdout",
          "output_type": "stream",
          "text": [
            "Epoch:  24  Train loss:  1.0195790064334869  Valid loss:  0.8988905151685079\n"
          ]
        },
        {
          "metadata": {
            "tags": null
          },
          "name": "stderr",
          "output_type": "stream",
          "text": [
            "\r 43%|████▎     | 26/60 [15:48<20:25, 36.05s/it]"
          ]
        },
        {
          "metadata": {
            "tags": null
          },
          "name": "stdout",
          "output_type": "stream",
          "text": [
            "Epoch:  25  Train loss:  0.9808930265903473  Valid loss:  0.9309914509455363\n"
          ]
        },
        {
          "metadata": {
            "tags": null
          },
          "name": "stderr",
          "output_type": "stream",
          "text": [
            "\r 45%|████▌     | 27/60 [16:23<19:44, 35.88s/it]"
          ]
        },
        {
          "metadata": {
            "tags": null
          },
          "name": "stdout",
          "output_type": "stream",
          "text": [
            "Epoch:  26  Train loss:  0.9544931864738464  Valid loss:  0.8587908943494161\n"
          ]
        },
        {
          "metadata": {
            "tags": null
          },
          "name": "stderr",
          "output_type": "stream",
          "text": [
            "\r 47%|████▋     | 28/60 [16:59<19:00, 35.65s/it]"
          ]
        },
        {
          "metadata": {
            "tags": null
          },
          "name": "stdout",
          "output_type": "stream",
          "text": [
            "Epoch:  27  Train loss:  0.9346493291854858  Valid loss:  0.8103259404500326\n"
          ]
        },
        {
          "metadata": {
            "tags": null
          },
          "name": "stderr",
          "output_type": "stream",
          "text": [
            "\r 48%|████▊     | 29/60 [17:34<18:20, 35.50s/it]"
          ]
        },
        {
          "metadata": {
            "tags": null
          },
          "name": "stdout",
          "output_type": "stream",
          "text": [
            "Epoch:  28  Train loss:  0.9476321876049042  Valid loss:  0.7994646231333414\n"
          ]
        },
        {
          "metadata": {
            "tags": null
          },
          "name": "stderr",
          "output_type": "stream",
          "text": [
            "\r 50%|█████     | 30/60 [18:09<17:42, 35.41s/it]"
          ]
        },
        {
          "metadata": {
            "tags": null
          },
          "name": "stdout",
          "output_type": "stream",
          "text": [
            "Epoch:  29  Train loss:  0.9667165911197663  Valid loss:  0.8996896346410116\n"
          ]
        },
        {
          "metadata": {
            "tags": null
          },
          "name": "stderr",
          "output_type": "stream",
          "text": [
            "\r 52%|█████▏    | 31/60 [18:45<17:14, 35.67s/it]"
          ]
        },
        {
          "metadata": {
            "tags": null
          },
          "name": "stdout",
          "output_type": "stream",
          "text": [
            "Epoch:  30  Train loss:  0.8968829619884491  Valid loss:  0.8234937191009521\n"
          ]
        },
        {
          "metadata": {
            "tags": null
          },
          "name": "stderr",
          "output_type": "stream",
          "text": [
            "\r 53%|█████▎    | 32/60 [19:20<16:33, 35.50s/it]"
          ]
        },
        {
          "metadata": {
            "tags": null
          },
          "name": "stdout",
          "output_type": "stream",
          "text": [
            "Epoch:  31  Train loss:  0.8784099221229553  Valid loss:  0.7720271746317545\n"
          ]
        },
        {
          "metadata": {
            "tags": null
          },
          "name": "stderr",
          "output_type": "stream",
          "text": [
            "\r 55%|█████▌    | 33/60 [19:55<15:51, 35.25s/it]"
          ]
        },
        {
          "metadata": {
            "tags": null
          },
          "name": "stdout",
          "output_type": "stream",
          "text": [
            "Epoch:  32  Train loss:  0.8817964279651642  Valid loss:  0.8355639576911926\n"
          ]
        },
        {
          "metadata": {
            "tags": null
          },
          "name": "stderr",
          "output_type": "stream",
          "text": [
            "\r 57%|█████▋    | 34/60 [20:30<15:17, 35.29s/it]"
          ]
        },
        {
          "metadata": {
            "tags": null
          },
          "name": "stdout",
          "output_type": "stream",
          "text": [
            "Epoch:  33  Train loss:  0.8529977822303771  Valid loss:  0.8205305536588033\n"
          ]
        },
        {
          "metadata": {
            "tags": null
          },
          "name": "stderr",
          "output_type": "stream",
          "text": [
            "\r 58%|█████▊    | 35/60 [21:06<14:42, 35.29s/it]"
          ]
        },
        {
          "metadata": {
            "tags": null
          },
          "name": "stdout",
          "output_type": "stream",
          "text": [
            "Epoch:  34  Train loss:  0.9177802169322967  Valid loss:  0.7597306370735168\n"
          ]
        },
        {
          "metadata": {
            "tags": null
          },
          "name": "stderr",
          "output_type": "stream",
          "text": [
            "\r 60%|██████    | 36/60 [21:41<14:05, 35.22s/it]"
          ]
        },
        {
          "metadata": {
            "tags": null
          },
          "name": "stdout",
          "output_type": "stream",
          "text": [
            "Epoch:  35  Train loss:  0.8317316317558289  Valid loss:  0.7530923088391622\n"
          ]
        },
        {
          "metadata": {
            "tags": null
          },
          "name": "stderr",
          "output_type": "stream",
          "text": [
            "\r 62%|██████▏   | 37/60 [22:20<14:01, 36.57s/it]"
          ]
        },
        {
          "metadata": {
            "tags": null
          },
          "name": "stdout",
          "output_type": "stream",
          "text": [
            "Epoch:  36  Train loss:  0.8324941515922546  Valid loss:  0.7214998602867126\n"
          ]
        },
        {
          "metadata": {
            "tags": null
          },
          "name": "stderr",
          "output_type": "stream",
          "text": [
            "\r 63%|██████▎   | 38/60 [23:01<13:52, 37.86s/it]"
          ]
        },
        {
          "metadata": {
            "tags": null
          },
          "name": "stdout",
          "output_type": "stream",
          "text": [
            "Epoch:  37  Train loss:  0.8530002117156983  Valid loss:  0.7587105433146158\n"
          ]
        },
        {
          "metadata": {
            "tags": null
          },
          "name": "stderr",
          "output_type": "stream",
          "text": [
            "\r 65%|██████▌   | 39/60 [23:42<13:30, 38.61s/it]"
          ]
        },
        {
          "metadata": {
            "tags": null
          },
          "name": "stdout",
          "output_type": "stream",
          "text": [
            "Epoch:  38  Train loss:  0.7992671000957489  Valid loss:  0.7145065863927206\n"
          ]
        },
        {
          "metadata": {
            "tags": null
          },
          "name": "stderr",
          "output_type": "stream",
          "text": [
            "\r 67%|██████▋   | 40/60 [24:21<12:58, 38.94s/it]"
          ]
        },
        {
          "metadata": {
            "tags": null
          },
          "name": "stdout",
          "output_type": "stream",
          "text": [
            "Epoch:  39  Train loss:  0.8191580283641815  Valid loss:  0.6936260859171549\n"
          ]
        },
        {
          "metadata": {
            "tags": null
          },
          "name": "stderr",
          "output_type": "stream",
          "text": [
            "\r 68%|██████▊   | 41/60 [24:58<12:06, 38.22s/it]"
          ]
        },
        {
          "metadata": {
            "tags": null
          },
          "name": "stdout",
          "output_type": "stream",
          "text": [
            "Epoch:  40  Train loss:  0.7634470891952515  Valid loss:  0.6949320137500763\n"
          ]
        },
        {
          "metadata": {
            "tags": null
          },
          "name": "stderr",
          "output_type": "stream",
          "text": [
            "\r 70%|███████   | 42/60 [25:39<11:43, 39.07s/it]"
          ]
        },
        {
          "metadata": {
            "tags": null
          },
          "name": "stdout",
          "output_type": "stream",
          "text": [
            "Epoch:  41  Train loss:  0.8121183717250824  Valid loss:  0.6972945034503937\n"
          ]
        },
        {
          "metadata": {
            "tags": null
          },
          "name": "stderr",
          "output_type": "stream",
          "text": [
            "\r 72%|███████▏  | 43/60 [26:20<11:16, 39.79s/it]"
          ]
        },
        {
          "metadata": {
            "tags": null
          },
          "name": "stdout",
          "output_type": "stream",
          "text": [
            "Epoch:  42  Train loss:  0.7948473286628723  Valid loss:  0.6519293884436289\n"
          ]
        },
        {
          "metadata": {
            "tags": null
          },
          "name": "stderr",
          "output_type": "stream",
          "text": [
            "\r 73%|███████▎  | 44/60 [26:57<10:21, 38.84s/it]"
          ]
        },
        {
          "metadata": {
            "tags": null
          },
          "name": "stdout",
          "output_type": "stream",
          "text": [
            "Epoch:  43  Train loss:  0.7655852782726288  Valid loss:  0.6595553656419119\n"
          ]
        },
        {
          "metadata": {
            "tags": null
          },
          "name": "stderr",
          "output_type": "stream",
          "text": [
            "\r 75%|███████▌  | 45/60 [27:34<09:34, 38.33s/it]"
          ]
        },
        {
          "metadata": {
            "tags": null
          },
          "name": "stdout",
          "output_type": "stream",
          "text": [
            "Epoch:  44  Train loss:  0.7627171719074249  Valid loss:  0.6375752588113149\n"
          ]
        },
        {
          "metadata": {
            "tags": null
          },
          "name": "stderr",
          "output_type": "stream",
          "text": [
            "\r 77%|███████▋  | 46/60 [28:15<09:07, 39.11s/it]"
          ]
        },
        {
          "metadata": {
            "tags": null
          },
          "name": "stdout",
          "output_type": "stream",
          "text": [
            "Epoch:  45  Train loss:  0.7144270944595337  Valid loss:  0.6508837044239044\n"
          ]
        },
        {
          "metadata": {
            "tags": null
          },
          "name": "stderr",
          "output_type": "stream",
          "text": [
            "\r 78%|███████▊  | 47/60 [28:53<08:22, 38.66s/it]"
          ]
        },
        {
          "metadata": {
            "tags": null
          },
          "name": "stdout",
          "output_type": "stream",
          "text": [
            "Epoch:  46  Train loss:  0.7232412576675415  Valid loss:  0.6340426107247671\n"
          ]
        },
        {
          "metadata": {
            "tags": null
          },
          "name": "stderr",
          "output_type": "stream",
          "text": [
            "\r 80%|████████  | 48/60 [29:28<07:30, 37.57s/it]"
          ]
        },
        {
          "metadata": {
            "tags": null
          },
          "name": "stdout",
          "output_type": "stream",
          "text": [
            "Epoch:  47  Train loss:  0.7305193984508515  Valid loss:  0.6268869439760844\n"
          ]
        },
        {
          "output_type": "stream",
          "name": "stderr",
          "text": [
            "\r 82%|████████▏ | 49/60 [30:04<06:48, 37.10s/it]"
          ]
        },
        {
          "output_type": "stream",
          "name": "stdout",
          "text": [
            "Epoch:  48  Train loss:  0.6959985017776489  Valid loss:  0.6387969851493835\n"
          ]
        },
        {
          "output_type": "stream",
          "name": "stderr",
          "text": [
            "\r 83%|████████▎ | 50/60 [30:39<06:06, 36.69s/it]"
          ]
        },
        {
          "output_type": "stream",
          "name": "stdout",
          "text": [
            "Epoch:  49  Train loss:  0.701420156955719  Valid loss:  0.6470218300819397\n"
          ]
        },
        {
          "output_type": "stream",
          "name": "stderr",
          "text": [
            "\r 85%|████████▌ | 51/60 [31:15<05:26, 36.25s/it]"
          ]
        },
        {
          "output_type": "stream",
          "name": "stdout",
          "text": [
            "Epoch:  50  Train loss:  0.7355579066276551  Valid loss:  0.6537444988886515\n"
          ]
        },
        {
          "output_type": "stream",
          "name": "stderr",
          "text": [
            "\r 87%|████████▋ | 52/60 [31:49<04:46, 35.78s/it]"
          ]
        },
        {
          "output_type": "stream",
          "name": "stdout",
          "text": [
            "Epoch:  51  Train loss:  0.6770007967948913  Valid loss:  0.6356829106807709\n"
          ]
        },
        {
          "output_type": "stream",
          "name": "stderr",
          "text": [
            "\r 88%|████████▊ | 53/60 [32:24<04:08, 35.43s/it]"
          ]
        },
        {
          "output_type": "stream",
          "name": "stdout",
          "text": [
            "Epoch:  52  Train loss:  0.7177709937095642  Valid loss:  0.6226741572221121\n"
          ]
        },
        {
          "output_type": "stream",
          "name": "stderr",
          "text": [
            "\r 90%|█████████ | 54/60 [32:59<03:32, 35.39s/it]"
          ]
        },
        {
          "output_type": "stream",
          "name": "stdout",
          "text": [
            "Epoch:  53  Train loss:  0.6731872642040253  Valid loss:  0.6118277609348297\n"
          ]
        },
        {
          "output_type": "stream",
          "name": "stderr",
          "text": [
            "\r 92%|█████████▏| 55/60 [33:35<02:57, 35.52s/it]"
          ]
        },
        {
          "output_type": "stream",
          "name": "stdout",
          "text": [
            "Epoch:  54  Train loss:  0.6935284888744354  Valid loss:  0.6102329095204672\n"
          ]
        },
        {
          "output_type": "stream",
          "name": "stderr",
          "text": [
            "\r 93%|█████████▎| 56/60 [34:10<02:21, 35.37s/it]"
          ]
        },
        {
          "output_type": "stream",
          "name": "stdout",
          "text": [
            "Epoch:  55  Train loss:  0.6512059807777405  Valid loss:  0.6070322096347809\n"
          ]
        },
        {
          "output_type": "stream",
          "name": "stderr",
          "text": [
            "\r 95%|█████████▌| 57/60 [34:45<01:45, 35.21s/it]"
          ]
        },
        {
          "output_type": "stream",
          "name": "stdout",
          "text": [
            "Epoch:  56  Train loss:  0.6309857034683227  Valid loss:  0.6300577918688456\n"
          ]
        },
        {
          "output_type": "stream",
          "name": "stderr",
          "text": [
            "\r 97%|█████████▋| 58/60 [35:19<01:09, 34.91s/it]"
          ]
        },
        {
          "output_type": "stream",
          "name": "stdout",
          "text": [
            "Epoch:  57  Train loss:  0.6240772294998169  Valid loss:  0.6713654299577078\n"
          ]
        },
        {
          "output_type": "stream",
          "name": "stderr",
          "text": [
            "\r 98%|█████████▊| 59/60 [35:54<00:34, 34.89s/it]"
          ]
        },
        {
          "output_type": "stream",
          "name": "stdout",
          "text": [
            "Epoch:  58  Train loss:  0.9792856979370117  Valid loss:  0.6338834861914316\n"
          ]
        },
        {
          "output_type": "stream",
          "name": "stderr",
          "text": [
            "100%|██████████| 60/60 [36:29<00:00, 36.49s/it]"
          ]
        },
        {
          "output_type": "stream",
          "name": "stdout",
          "text": [
            "Epoch:  59  Train loss:  0.7397478890419006  Valid loss:  0.6244140168031057\n"
          ]
        },
        {
          "output_type": "stream",
          "name": "stderr",
          "text": [
            "\n"
          ]
        }
      ],
      "source": [
        "from training import train_valid_loop\n",
        "\n",
        "train_loss, valid_loss = train_valid_loop(net, train_dataloader, valid_dataloader, 60)"
      ]
    },
    {
      "cell_type": "code",
      "execution_count": 17,
      "metadata": {
        "id": "Y0BcRVQ6Y7H-"
      },
      "outputs": [],
      "source": [
        "### Reload stored values ###\n",
        "train_loss = np.load('train_loss.npy')\n",
        "valid_loss = np.load('valid_loss.npy')"
      ]
    },
    {
      "cell_type": "code",
      "execution_count": 18,
      "metadata": {
        "colab": {
          "base_uri": "https://localhost:8080/"
        },
        "id": "WAcPFlHQY7H-",
        "outputId": "66478e36-323c-4ee0-be83-6e5126585f21"
      },
      "outputs": [
        {
          "output_type": "stream",
          "name": "stderr",
          "text": [
            "<ipython-input-18-bafa0c548b29>:2: FutureWarning:\n",
            "\n",
            "You are using `torch.load` with `weights_only=False` (the current default value), which uses the default pickle module implicitly. It is possible to construct malicious pickle data which will execute arbitrary code during unpickling (See https://github.com/pytorch/pytorch/blob/main/SECURITY.md#untrusted-models for more details). In a future release, the default value for `weights_only` will be flipped to `True`. This limits the functions that could be executed during unpickling. Arbitrary objects will no longer be allowed to be loaded via this mode unless they are explicitly allowlisted by the user via `torch.serialization.add_safe_globals`. We recommend you start setting `weights_only=True` for any use case where you don't have full control of the loaded file. Please open an issue on GitHub for any issues related to this experimental feature.\n",
            "\n"
          ]
        },
        {
          "output_type": "execute_result",
          "data": {
            "text/plain": [
              "<All keys matched successfully>"
            ]
          },
          "metadata": {},
          "execution_count": 18
        }
      ],
      "source": [
        "### Load saved model ###\n",
        "net.load_state_dict(torch.load('saved_model.pt',map_location=torch.device('cpu')))"
      ]
    },
    {
      "cell_type": "code",
      "execution_count": 24,
      "metadata": {
        "colab": {
          "base_uri": "https://localhost:8080/",
          "height": 592
        },
        "id": "ddbeZOfKY7H-",
        "outputId": "70ddcb65-8ffb-400c-f33f-3b75c8a888ea"
      },
      "outputs": [
        {
          "output_type": "display_data",
          "data": {
            "text/plain": [
              "<Figure size 750x600 with 1 Axes>"
            ],
            "image/png": "[encoded data removed]"
          },
          "metadata": {}
        }
      ],
      "source": [
        "fig, ax = plt.subplots(1, 1, figsize=(5,4), dpi=150)\n",
        "ax.plot(range(len(train_loss)),train_loss,label='train loss')\n",
        "ax.plot(range(len(valid_loss)),valid_loss,label='valid loss')\n",
        "ax.set_xlabel(\"Epoch\")\n",
        "ax.set_ylabel(\"Loss\")\n",
        "ax.legend()\n",
        "plt.show()"
      ]
    },
    {
      "cell_type": "markdown",
      "metadata": {
        "id": "umN4X-dPY7H-"
      },
      "source": [
        "## Performance evaluation"
      ]
    },
    {
      "cell_type": "code",
      "execution_count": 21,
      "metadata": {
        "colab": {
          "base_uri": "https://localhost:8080/"
        },
        "id": "B6nkpCzeY7H-",
        "outputId": "e1ea8be9-b5ea-494f-89ae-ae9fa5b0e8c9"
      },
      "outputs": [
        {
          "output_type": "stream",
          "name": "stderr",
          "text": [
            "100%|██████████| 20830/20830 [04:58<00:00, 69.86it/s]\n"
          ]
        }
      ],
      "source": [
        "preds, trues = [], []\n",
        "\n",
        "for i in tqdm(range(len(test_dataset))):\n",
        "    g, labels = test_dataset.__getitem__(i)\n",
        "    preds.append(net(g).detach().numpy().item())\n",
        "    trues.append(labels.item())\n",
        "\n",
        "preds = np.array(preds)\n",
        "trues = np.array(trues)"
      ]
    },
    {
      "cell_type": "markdown",
      "metadata": {
        "id": "Q_s8cAkqY7H-"
      },
      "source": [
        "### Predicted vs. true 2D density plot"
      ]
    },
    {
      "cell_type": "code",
      "execution_count": 26,
      "metadata": {
        "colab": {
          "base_uri": "https://localhost:8080/",
          "height": 592
        },
        "id": "omFNVrNZY7H-",
        "outputId": "464dcd62-405e-456e-90bf-5e1b14ee3d31"
      },
      "outputs": [
        {
          "output_type": "display_data",
          "data": {
            "text/plain": [
              "<Figure size 750x600 with 2 Axes>"
            ],
            "image/png": "[encoded data removed]"
          },
          "metadata": {}
        }
      ],
      "source": [
        "from matplotlib.colors import LogNorm\n",
        "\n",
        "fig, ax = plt.subplots(1, 1, figsize=(5,4), dpi=150)\n",
        "h = ax.hist2d(\n",
        "    trues,\n",
        "    preds,\n",
        "    bins=100,\n",
        "    cmap='plasma',\n",
        "    norm=LogNorm(),  # Apply log normalization\n",
        "    cmin=1\n",
        ")\n",
        "fig.colorbar(h[3], ax=ax, label='Log-scaled counts')\n",
        "ax.plot([0, 15], [0, 15], c='black', ls='--', alpha=0.5)\n",
        "ax.set_xlabel('True EDM')\n",
        "ax.set_ylabel('Predicted EDM')\n",
        "ax.set_xlim(0, 15)\n",
        "ax.set_ylim(0, 15)\n",
        "ax.set_aspect('equal')"
      ]
    },
    {
      "cell_type": "markdown",
      "metadata": {
        "id": "vqbgul_GY7H-"
      },
      "source": [
        "### Residual distribution"
      ]
    },
    {
      "cell_type": "code",
      "execution_count": 38,
      "metadata": {
        "colab": {
          "base_uri": "https://localhost:8080/",
          "height": 608
        },
        "id": "D0c80GxOY7H-",
        "outputId": "f9b913dc-937c-46e8-bd1f-46eef70f21b1"
      },
      "outputs": [
        {
          "output_type": "execute_result",
          "data": {
            "text/plain": [
              "Text(0.5, 0, '(pred - true) / true')"
            ]
          },
          "metadata": {},
          "execution_count": 38
        },
        {
          "output_type": "display_data",
          "data": {
            "text/plain": [
              "<Figure size 750x600 with 1 Axes>"
            ],
            "image/png": "[encoded data removed]"
          },
          "metadata": {}
        }
      ],
      "source": [
        "resids = (preds-trues)/(trues+1e-6)\n",
        "resids = resids[abs(resids) < 3]\n",
        "\n",
        "fig, ax = plt.subplots(1, 1, figsize=(5,4), dpi=150)\n",
        "h = ax.hist(resids, bins=100, range=(-1.5,3), facecolor='purple', alpha=0.4, density=True, lw=1, edgecolor='black')\n",
        "ax.set_xlim(-1.5, 3)\n",
        "ax.text(0.7, 0.90, 'mean = {:.2f}'.format(np.mean(resids)), transform=ax.transAxes)\n",
        "ax.text(0.7, 0.83, 'std = {:.2f}'.format(np.std(resids)), transform=ax.transAxes)\n",
        "ax.set_xlabel('(pred - true) / true')"
      ]
    },
    {
      "cell_type": "code",
      "source": [],
      "metadata": {
        "id": "48WH4Ft5ICkE"
      },
      "execution_count": null,
      "outputs": []
    }
  ],
  "metadata": {
    "kernelspec": {
      "display_name": "base",
      "language": "python",
      "name": "python3"
    },
    "language_info": {
      "codemirror_mode": {
        "name": "ipython",
        "version": 3
      },
      "file_extension": ".py",
      "mimetype": "text/x-python",
      "name": "python",
      "nbconvert_exporter": "python",
      "pygments_lexer": "ipython3",
      "version": "3.11.6"
    },
    "orig_nbformat": 4,
    "colab": {
      "provenance": [],
      "include_colab_link": true
    }
  },
  "nbformat": 4,
  "nbformat_minor": 0
}